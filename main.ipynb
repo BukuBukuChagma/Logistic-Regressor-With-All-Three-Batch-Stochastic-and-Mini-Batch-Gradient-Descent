{
  "cells": [
    {
      "cell_type": "markdown",
      "metadata": {
        "id": "3WRfPKZV3dei"
      },
      "source": [
        "Name: Farhan Shoukat<br>\n",
        "Roll No: Fa20/BSAI/048<br>\n",
        "Lab: 9<br>\n",
        "Group Memeber : Solo<br>"
      ]
    },
    {
      "cell_type": "code",
      "execution_count": 374,
      "metadata": {
        "id": "CZM5_zIK3c4b"
      },
      "outputs": [],
      "source": [
        "from sklearn.model_selection import train_test_split\n",
        "from sklearn.metrics import classification_report \n",
        "from sklearn.metrics import confusion_matrix\n",
        "from sklearn.metrics import accuracy_score\n",
        "from matplotlib.ticker import MaxNLocator\n",
        "from copy import copy, deepcopy\n",
        "import matplotlib.pyplot as plt\n",
        "import seaborn as sns\n",
        "import pandas as pd\n",
        "import numpy as np\n",
        "import random"
      ]
    },
    {
      "cell_type": "markdown",
      "metadata": {
        "id": "w6yEwiBmQkYw"
      },
      "source": [
        "#Data Cleaning"
      ]
    },
    {
      "cell_type": "code",
      "execution_count": 375,
      "metadata": {
        "colab": {
          "base_uri": "https://localhost:8080/",
          "height": 424
        },
        "id": "-wGya8Hm5ix7",
        "outputId": "72919833-ef83-474d-953d-53842015833b"
      },
      "outputs": [
        {
          "output_type": "execute_result",
          "data": {
            "text/plain": [
              "      X0  GP   MIN  PTS  FGM  FGA   FG%  3P Made  3PA   3P%  ...  FTA   FT%  \\\n",
              "0      1  36  27.4  7.4  2.6  7.6  34.7      0.5  2.1  25.0  ...  2.3  69.9   \n",
              "1      1  35  26.9  7.2  2.0  6.7  29.6      0.7  2.8  23.5  ...  3.4  76.5   \n",
              "2      1  74  15.3  5.2  2.0  4.7  42.2      0.4  1.7  24.4  ...  1.3  67.0   \n",
              "3      1  58  11.6  5.7  2.3  5.5  42.6      0.1  0.5  22.6  ...  1.3  68.9   \n",
              "4      1  48  11.5  4.5  1.6  3.0  52.4      0.0  0.1   0.0  ...  1.9  67.4   \n",
              "...   ..  ..   ...  ...  ...  ...   ...      ...  ...   ...  ...  ...   ...   \n",
              "1335   1  80  15.8  4.3  1.6  3.6  43.3      0.0  0.2  14.3  ...  1.5  79.2   \n",
              "1336   1  68  12.6  3.9  1.5  4.1  35.8      0.1  0.7  16.7  ...  1.0  79.4   \n",
              "1337   1  43  12.1  5.4  2.2  3.9  55.0      0.0  0.0   0.0  ...  1.6  64.3   \n",
              "1338   1  52  12.0  4.5  1.7  3.8  43.9      0.0  0.2  10.0  ...  1.8  62.5   \n",
              "1339   1  47  11.7  4.4  1.6  4.4  36.9      0.4  1.3  33.3  ...  1.0  67.3   \n",
              "\n",
              "      OREB  DREB  REB  AST  STL  BLK  TOV  TARGET_5Yrs  \n",
              "0      0.7   3.4  4.1  1.9  0.4  0.4  1.3          0.0  \n",
              "1      0.5   2.0  2.4  3.7  1.1  0.5  1.6          0.0  \n",
              "2      0.5   1.7  2.2  1.0  0.5  0.3  1.0          0.0  \n",
              "3      1.0   0.9  1.9  0.8  0.6  0.1  1.0          1.0  \n",
              "4      1.0   1.5  2.5  0.3  0.3  0.4  0.8          1.0  \n",
              "...    ...   ...  ...  ...  ...  ...  ...          ...  \n",
              "1335   0.4   0.8  1.2  2.5  0.6  0.2  0.8          0.0  \n",
              "1336   0.4   1.1  1.5  2.3  0.8  0.0  1.3          1.0  \n",
              "1337   1.5   2.3  3.8  0.3  0.3  0.4  0.9          0.0  \n",
              "1338   0.2   0.4  0.7  2.2  0.4  0.1  0.8          1.0  \n",
              "1339   0.2   0.7  0.9  1.4  0.7  0.1  0.9          1.0  \n",
              "\n",
              "[1329 rows x 21 columns]"
            ],
            "text/html": [
              "\n",
              "  <div id=\"df-39f56d08-e1cf-4589-b143-ed8a3fd5ea4d\">\n",
              "    <div class=\"colab-df-container\">\n",
              "      <div>\n",
              "<style scoped>\n",
              "    .dataframe tbody tr th:only-of-type {\n",
              "        vertical-align: middle;\n",
              "    }\n",
              "\n",
              "    .dataframe tbody tr th {\n",
              "        vertical-align: top;\n",
              "    }\n",
              "\n",
              "    .dataframe thead th {\n",
              "        text-align: right;\n",
              "    }\n",
              "</style>\n",
              "<table border=\"1\" class=\"dataframe\">\n",
              "  <thead>\n",
              "    <tr style=\"text-align: right;\">\n",
              "      <th></th>\n",
              "      <th>X0</th>\n",
              "      <th>GP</th>\n",
              "      <th>MIN</th>\n",
              "      <th>PTS</th>\n",
              "      <th>FGM</th>\n",
              "      <th>FGA</th>\n",
              "      <th>FG%</th>\n",
              "      <th>3P Made</th>\n",
              "      <th>3PA</th>\n",
              "      <th>3P%</th>\n",
              "      <th>...</th>\n",
              "      <th>FTA</th>\n",
              "      <th>FT%</th>\n",
              "      <th>OREB</th>\n",
              "      <th>DREB</th>\n",
              "      <th>REB</th>\n",
              "      <th>AST</th>\n",
              "      <th>STL</th>\n",
              "      <th>BLK</th>\n",
              "      <th>TOV</th>\n",
              "      <th>TARGET_5Yrs</th>\n",
              "    </tr>\n",
              "  </thead>\n",
              "  <tbody>\n",
              "    <tr>\n",
              "      <th>0</th>\n",
              "      <td>1</td>\n",
              "      <td>36</td>\n",
              "      <td>27.4</td>\n",
              "      <td>7.4</td>\n",
              "      <td>2.6</td>\n",
              "      <td>7.6</td>\n",
              "      <td>34.7</td>\n",
              "      <td>0.5</td>\n",
              "      <td>2.1</td>\n",
              "      <td>25.0</td>\n",
              "      <td>...</td>\n",
              "      <td>2.3</td>\n",
              "      <td>69.9</td>\n",
              "      <td>0.7</td>\n",
              "      <td>3.4</td>\n",
              "      <td>4.1</td>\n",
              "      <td>1.9</td>\n",
              "      <td>0.4</td>\n",
              "      <td>0.4</td>\n",
              "      <td>1.3</td>\n",
              "      <td>0.0</td>\n",
              "    </tr>\n",
              "    <tr>\n",
              "      <th>1</th>\n",
              "      <td>1</td>\n",
              "      <td>35</td>\n",
              "      <td>26.9</td>\n",
              "      <td>7.2</td>\n",
              "      <td>2.0</td>\n",
              "      <td>6.7</td>\n",
              "      <td>29.6</td>\n",
              "      <td>0.7</td>\n",
              "      <td>2.8</td>\n",
              "      <td>23.5</td>\n",
              "      <td>...</td>\n",
              "      <td>3.4</td>\n",
              "      <td>76.5</td>\n",
              "      <td>0.5</td>\n",
              "      <td>2.0</td>\n",
              "      <td>2.4</td>\n",
              "      <td>3.7</td>\n",
              "      <td>1.1</td>\n",
              "      <td>0.5</td>\n",
              "      <td>1.6</td>\n",
              "      <td>0.0</td>\n",
              "    </tr>\n",
              "    <tr>\n",
              "      <th>2</th>\n",
              "      <td>1</td>\n",
              "      <td>74</td>\n",
              "      <td>15.3</td>\n",
              "      <td>5.2</td>\n",
              "      <td>2.0</td>\n",
              "      <td>4.7</td>\n",
              "      <td>42.2</td>\n",
              "      <td>0.4</td>\n",
              "      <td>1.7</td>\n",
              "      <td>24.4</td>\n",
              "      <td>...</td>\n",
              "      <td>1.3</td>\n",
              "      <td>67.0</td>\n",
              "      <td>0.5</td>\n",
              "      <td>1.7</td>\n",
              "      <td>2.2</td>\n",
              "      <td>1.0</td>\n",
              "      <td>0.5</td>\n",
              "      <td>0.3</td>\n",
              "      <td>1.0</td>\n",
              "      <td>0.0</td>\n",
              "    </tr>\n",
              "    <tr>\n",
              "      <th>3</th>\n",
              "      <td>1</td>\n",
              "      <td>58</td>\n",
              "      <td>11.6</td>\n",
              "      <td>5.7</td>\n",
              "      <td>2.3</td>\n",
              "      <td>5.5</td>\n",
              "      <td>42.6</td>\n",
              "      <td>0.1</td>\n",
              "      <td>0.5</td>\n",
              "      <td>22.6</td>\n",
              "      <td>...</td>\n",
              "      <td>1.3</td>\n",
              "      <td>68.9</td>\n",
              "      <td>1.0</td>\n",
              "      <td>0.9</td>\n",
              "      <td>1.9</td>\n",
              "      <td>0.8</td>\n",
              "      <td>0.6</td>\n",
              "      <td>0.1</td>\n",
              "      <td>1.0</td>\n",
              "      <td>1.0</td>\n",
              "    </tr>\n",
              "    <tr>\n",
              "      <th>4</th>\n",
              "      <td>1</td>\n",
              "      <td>48</td>\n",
              "      <td>11.5</td>\n",
              "      <td>4.5</td>\n",
              "      <td>1.6</td>\n",
              "      <td>3.0</td>\n",
              "      <td>52.4</td>\n",
              "      <td>0.0</td>\n",
              "      <td>0.1</td>\n",
              "      <td>0.0</td>\n",
              "      <td>...</td>\n",
              "      <td>1.9</td>\n",
              "      <td>67.4</td>\n",
              "      <td>1.0</td>\n",
              "      <td>1.5</td>\n",
              "      <td>2.5</td>\n",
              "      <td>0.3</td>\n",
              "      <td>0.3</td>\n",
              "      <td>0.4</td>\n",
              "      <td>0.8</td>\n",
              "      <td>1.0</td>\n",
              "    </tr>\n",
              "    <tr>\n",
              "      <th>...</th>\n",
              "      <td>...</td>\n",
              "      <td>...</td>\n",
              "      <td>...</td>\n",
              "      <td>...</td>\n",
              "      <td>...</td>\n",
              "      <td>...</td>\n",
              "      <td>...</td>\n",
              "      <td>...</td>\n",
              "      <td>...</td>\n",
              "      <td>...</td>\n",
              "      <td>...</td>\n",
              "      <td>...</td>\n",
              "      <td>...</td>\n",
              "      <td>...</td>\n",
              "      <td>...</td>\n",
              "      <td>...</td>\n",
              "      <td>...</td>\n",
              "      <td>...</td>\n",
              "      <td>...</td>\n",
              "      <td>...</td>\n",
              "      <td>...</td>\n",
              "    </tr>\n",
              "    <tr>\n",
              "      <th>1335</th>\n",
              "      <td>1</td>\n",
              "      <td>80</td>\n",
              "      <td>15.8</td>\n",
              "      <td>4.3</td>\n",
              "      <td>1.6</td>\n",
              "      <td>3.6</td>\n",
              "      <td>43.3</td>\n",
              "      <td>0.0</td>\n",
              "      <td>0.2</td>\n",
              "      <td>14.3</td>\n",
              "      <td>...</td>\n",
              "      <td>1.5</td>\n",
              "      <td>79.2</td>\n",
              "      <td>0.4</td>\n",
              "      <td>0.8</td>\n",
              "      <td>1.2</td>\n",
              "      <td>2.5</td>\n",
              "      <td>0.6</td>\n",
              "      <td>0.2</td>\n",
              "      <td>0.8</td>\n",
              "      <td>0.0</td>\n",
              "    </tr>\n",
              "    <tr>\n",
              "      <th>1336</th>\n",
              "      <td>1</td>\n",
              "      <td>68</td>\n",
              "      <td>12.6</td>\n",
              "      <td>3.9</td>\n",
              "      <td>1.5</td>\n",
              "      <td>4.1</td>\n",
              "      <td>35.8</td>\n",
              "      <td>0.1</td>\n",
              "      <td>0.7</td>\n",
              "      <td>16.7</td>\n",
              "      <td>...</td>\n",
              "      <td>1.0</td>\n",
              "      <td>79.4</td>\n",
              "      <td>0.4</td>\n",
              "      <td>1.1</td>\n",
              "      <td>1.5</td>\n",
              "      <td>2.3</td>\n",
              "      <td>0.8</td>\n",
              "      <td>0.0</td>\n",
              "      <td>1.3</td>\n",
              "      <td>1.0</td>\n",
              "    </tr>\n",
              "    <tr>\n",
              "      <th>1337</th>\n",
              "      <td>1</td>\n",
              "      <td>43</td>\n",
              "      <td>12.1</td>\n",
              "      <td>5.4</td>\n",
              "      <td>2.2</td>\n",
              "      <td>3.9</td>\n",
              "      <td>55.0</td>\n",
              "      <td>0.0</td>\n",
              "      <td>0.0</td>\n",
              "      <td>0.0</td>\n",
              "      <td>...</td>\n",
              "      <td>1.6</td>\n",
              "      <td>64.3</td>\n",
              "      <td>1.5</td>\n",
              "      <td>2.3</td>\n",
              "      <td>3.8</td>\n",
              "      <td>0.3</td>\n",
              "      <td>0.3</td>\n",
              "      <td>0.4</td>\n",
              "      <td>0.9</td>\n",
              "      <td>0.0</td>\n",
              "    </tr>\n",
              "    <tr>\n",
              "      <th>1338</th>\n",
              "      <td>1</td>\n",
              "      <td>52</td>\n",
              "      <td>12.0</td>\n",
              "      <td>4.5</td>\n",
              "      <td>1.7</td>\n",
              "      <td>3.8</td>\n",
              "      <td>43.9</td>\n",
              "      <td>0.0</td>\n",
              "      <td>0.2</td>\n",
              "      <td>10.0</td>\n",
              "      <td>...</td>\n",
              "      <td>1.8</td>\n",
              "      <td>62.5</td>\n",
              "      <td>0.2</td>\n",
              "      <td>0.4</td>\n",
              "      <td>0.7</td>\n",
              "      <td>2.2</td>\n",
              "      <td>0.4</td>\n",
              "      <td>0.1</td>\n",
              "      <td>0.8</td>\n",
              "      <td>1.0</td>\n",
              "    </tr>\n",
              "    <tr>\n",
              "      <th>1339</th>\n",
              "      <td>1</td>\n",
              "      <td>47</td>\n",
              "      <td>11.7</td>\n",
              "      <td>4.4</td>\n",
              "      <td>1.6</td>\n",
              "      <td>4.4</td>\n",
              "      <td>36.9</td>\n",
              "      <td>0.4</td>\n",
              "      <td>1.3</td>\n",
              "      <td>33.3</td>\n",
              "      <td>...</td>\n",
              "      <td>1.0</td>\n",
              "      <td>67.3</td>\n",
              "      <td>0.2</td>\n",
              "      <td>0.7</td>\n",
              "      <td>0.9</td>\n",
              "      <td>1.4</td>\n",
              "      <td>0.7</td>\n",
              "      <td>0.1</td>\n",
              "      <td>0.9</td>\n",
              "      <td>1.0</td>\n",
              "    </tr>\n",
              "  </tbody>\n",
              "</table>\n",
              "<p>1329 rows × 21 columns</p>\n",
              "</div>\n",
              "      <button class=\"colab-df-convert\" onclick=\"convertToInteractive('df-39f56d08-e1cf-4589-b143-ed8a3fd5ea4d')\"\n",
              "              title=\"Convert this dataframe to an interactive table.\"\n",
              "              style=\"display:none;\">\n",
              "        \n",
              "  <svg xmlns=\"http://www.w3.org/2000/svg\" height=\"24px\"viewBox=\"0 0 24 24\"\n",
              "       width=\"24px\">\n",
              "    <path d=\"M0 0h24v24H0V0z\" fill=\"none\"/>\n",
              "    <path d=\"M18.56 5.44l.94 2.06.94-2.06 2.06-.94-2.06-.94-.94-2.06-.94 2.06-2.06.94zm-11 1L8.5 8.5l.94-2.06 2.06-.94-2.06-.94L8.5 2.5l-.94 2.06-2.06.94zm10 10l.94 2.06.94-2.06 2.06-.94-2.06-.94-.94-2.06-.94 2.06-2.06.94z\"/><path d=\"M17.41 7.96l-1.37-1.37c-.4-.4-.92-.59-1.43-.59-.52 0-1.04.2-1.43.59L10.3 9.45l-7.72 7.72c-.78.78-.78 2.05 0 2.83L4 21.41c.39.39.9.59 1.41.59.51 0 1.02-.2 1.41-.59l7.78-7.78 2.81-2.81c.8-.78.8-2.07 0-2.86zM5.41 20L4 18.59l7.72-7.72 1.47 1.35L5.41 20z\"/>\n",
              "  </svg>\n",
              "      </button>\n",
              "      \n",
              "  <style>\n",
              "    .colab-df-container {\n",
              "      display:flex;\n",
              "      flex-wrap:wrap;\n",
              "      gap: 12px;\n",
              "    }\n",
              "\n",
              "    .colab-df-convert {\n",
              "      background-color: #E8F0FE;\n",
              "      border: none;\n",
              "      border-radius: 50%;\n",
              "      cursor: pointer;\n",
              "      display: none;\n",
              "      fill: #1967D2;\n",
              "      height: 32px;\n",
              "      padding: 0 0 0 0;\n",
              "      width: 32px;\n",
              "    }\n",
              "\n",
              "    .colab-df-convert:hover {\n",
              "      background-color: #E2EBFA;\n",
              "      box-shadow: 0px 1px 2px rgba(60, 64, 67, 0.3), 0px 1px 3px 1px rgba(60, 64, 67, 0.15);\n",
              "      fill: #174EA6;\n",
              "    }\n",
              "\n",
              "    [theme=dark] .colab-df-convert {\n",
              "      background-color: #3B4455;\n",
              "      fill: #D2E3FC;\n",
              "    }\n",
              "\n",
              "    [theme=dark] .colab-df-convert:hover {\n",
              "      background-color: #434B5C;\n",
              "      box-shadow: 0px 1px 3px 1px rgba(0, 0, 0, 0.15);\n",
              "      filter: drop-shadow(0px 1px 2px rgba(0, 0, 0, 0.3));\n",
              "      fill: #FFFFFF;\n",
              "    }\n",
              "  </style>\n",
              "\n",
              "      <script>\n",
              "        const buttonEl =\n",
              "          document.querySelector('#df-39f56d08-e1cf-4589-b143-ed8a3fd5ea4d button.colab-df-convert');\n",
              "        buttonEl.style.display =\n",
              "          google.colab.kernel.accessAllowed ? 'block' : 'none';\n",
              "\n",
              "        async function convertToInteractive(key) {\n",
              "          const element = document.querySelector('#df-39f56d08-e1cf-4589-b143-ed8a3fd5ea4d');\n",
              "          const dataTable =\n",
              "            await google.colab.kernel.invokeFunction('convertToInteractive',\n",
              "                                                     [key], {});\n",
              "          if (!dataTable) return;\n",
              "\n",
              "          const docLinkHtml = 'Like what you see? Visit the ' +\n",
              "            '<a target=\"_blank\" href=https://colab.research.google.com/notebooks/data_table.ipynb>data table notebook</a>'\n",
              "            + ' to learn more about interactive tables.';\n",
              "          element.innerHTML = '';\n",
              "          dataTable['output_type'] = 'display_data';\n",
              "          await google.colab.output.renderOutput(dataTable, element);\n",
              "          const docLink = document.createElement('div');\n",
              "          docLink.innerHTML = docLinkHtml;\n",
              "          element.appendChild(docLink);\n",
              "        }\n",
              "      </script>\n",
              "    </div>\n",
              "  </div>\n",
              "  "
            ]
          },
          "metadata": {},
          "execution_count": 375
        }
      ],
      "source": [
        "url = '/content/drive/MyDrive/ColabData/nba_logreg.csv'\n",
        "dataset = pd.read_csv(url)\n",
        "dataset.drop(columns='Name', inplace=True )\n",
        "dataset.insert(loc = 0, column = 'X0', value = 1) #for theta0 during matrix multiplication\n",
        "dataset.dropna(inplace=True)\n",
        "dataset"
      ]
    },
    {
      "cell_type": "code",
      "execution_count": 376,
      "metadata": {
        "id": "q3hT8a88IHDS"
      },
      "outputs": [],
      "source": [
        "def MeanNormalization(a):\n",
        "  return ((a-np.mean(a))/np.std(a))"
      ]
    },
    {
      "cell_type": "code",
      "execution_count": 377,
      "metadata": {
        "colab": {
          "base_uri": "https://localhost:8080/"
        },
        "id": "fFRX-Cu16PaO",
        "outputId": "06f32d59-d395-4904-e22e-1d997842d9c6"
      },
      "outputs": [
        {
          "output_type": "execute_result",
          "data": {
            "text/plain": [
              "dtype('float64')"
            ]
          },
          "metadata": {},
          "execution_count": 377
        }
      ],
      "source": [
        "#Nomalization of Features Using Mean Normalization\n",
        "features = dataset.columns[1:-1]\n",
        "for i in features:\n",
        "  dataset[i] = MeanNormalization(dataset[i])\n",
        "\n",
        "df = dataset.to_numpy()\n",
        "df.dtype"
      ]
    },
    {
      "cell_type": "code",
      "execution_count": 378,
      "metadata": {
        "colab": {
          "base_uri": "https://localhost:8080/"
        },
        "id": "lz4mhOY26Uon",
        "outputId": "38477d8f-159a-4fca-c420-dfb38e202637"
      },
      "outputs": [
        {
          "output_type": "stream",
          "name": "stdout",
          "text": [
            "Shape of X : (1329, 20)\n",
            "Shape of Y : (1329,)\n"
          ]
        }
      ],
      "source": [
        "#Seperating Features and Output Columns\n",
        "x = df[:,:-1]\n",
        "y = df[:,-1]\n",
        "No_ofFeatures = 20\n",
        "print(f\"Shape of X : {x.shape}\")\n",
        "print(f\"Shape of Y : {y.shape}\")"
      ]
    },
    {
      "cell_type": "code",
      "execution_count": 379,
      "metadata": {
        "colab": {
          "base_uri": "https://localhost:8080/"
        },
        "id": "DS55JXNv6c_C",
        "outputId": "3c988bb6-6233-458b-e371-a36f73a9082c"
      },
      "outputs": [
        {
          "output_type": "stream",
          "name": "stdout",
          "text": [
            "Shape of TrainX : (1063, 20)\n",
            "Shape of TrainY : (1063,)\n",
            "Shape of TestX : (266, 20)\n",
            "Shape of TestY : (266,)\n"
          ]
        }
      ],
      "source": [
        "#Creating Train Test Split\n",
        "train_X,test_X, train_Y, test_Y = train_test_split(x, y, test_size=0.2, random_state= 25)\n",
        "print(f\"Shape of TrainX : {train_X.shape}\")\n",
        "print(f\"Shape of TrainY : {train_Y.shape}\")\n",
        "print(f\"Shape of TestX : {test_X.shape}\")\n",
        "print(f\"Shape of TestY : {test_Y.shape}\")"
      ]
    },
    {
      "cell_type": "markdown",
      "source": [
        "#Logistic Regression Class Implentation"
      ],
      "metadata": {
        "id": "CWN-jDgoI2QG"
      }
    },
    {
      "cell_type": "code",
      "source": [
        "from os import error\n",
        "from sklearn.metrics import accuracy_score\n",
        "import matplotlib.pyplot as plt\n",
        "import seaborn as sns\n",
        "import pandas as pd\n",
        "import numpy as np\n",
        "import random\n",
        "\n",
        "\n",
        "class Logistic_Regressor:\n",
        "  def __init__(self, noOfFeature, lr=0.1, regularizer= 'l2', lamda_assign='auto-assign'):\n",
        "    self.weights = self.InitializeWeights(noOfFeature)\n",
        "    self.learning_rate = lr\n",
        "    self. lamda_assign = lamda_assign\n",
        "    self.lamda = None\n",
        "    self.regularizer = regularizer\n",
        "    self.noOfFeature = noOfFeature\n",
        "    self.ErrorTrain = list()\n",
        "    self.ErrorValidation = list()\n",
        "\n",
        "\n",
        "  #////////////////////////////////////////////////////////////////////////////\n",
        "  #/////THESE ARE FEW GENERIC FUCTIONS THAT ALL THREE(BATCH, STOCHASTIC, MINI-BATCH) GRADIENT DESCENT WILL NEDD\n",
        "  #///////////////////////////////////////////////////////////////////////////\n",
        "  \n",
        "  def resetInitialVariables(self):\n",
        "    self.weights = self.InitializeWeights(self.noOfFeature)\n",
        "    self.ErrorTrain = list()\n",
        "    self.ErrorValidation = list()\n",
        "    return self\n",
        "\n",
        "  def IntializeLamda(self, trainX, trainY, kfold_value=5):\n",
        "\n",
        "    if self.lamda_assign == 'auto-assign':\n",
        "      print('\\n***********************************************\\n\\tPLEASE WAIT......Preforming KFold to tune Lamba for Regualarization.....')\n",
        "      dataset = np.c_[trainX, trainY]\n",
        "      InstancesIn_Fold = len(dataset)//kfold_value\n",
        "\n",
        "      Fold1 = dataset[:InstancesIn_Fold, :]\n",
        "      Fold2 = dataset[InstancesIn_Fold : InstancesIn_Fold*2 , :]\n",
        "      Fold3 = dataset[InstancesIn_Fold*2 : InstancesIn_Fold*3 , :]\n",
        "      Fold4 = dataset[InstancesIn_Fold*3 : InstancesIn_Fold*4 , :]\n",
        "      Fold5 = dataset[InstancesIn_Fold*4 : InstancesIn_Fold*5, :]\n",
        "\n",
        "      Fold_List = [Fold1, Fold2, Fold3, Fold4, Fold5]\n",
        "      holdout_score = list()\n",
        "      lamda_holdout = dict()\n",
        "      lamda_weights = deepcopy(self.weights)\n",
        "      for i in np.arange(0.001, 1, 0.005):\n",
        "        self.lamda = i\n",
        "        temp_holdoutScore = list()\n",
        "        for c in range(kfold_value):\n",
        "          self.weights = deepcopy(lamda_weights)\n",
        "          TrainingData =  np.vstack(tuple([x for x in Fold_List if True in (np.where(x != Fold_List[c], True, False))]))\n",
        "          TestingData = Fold_List[c]\n",
        "          trX, trY, teX, teY = TrainingData[:,:-1], TrainingData[:,-1], TestingData[:,:-1], TestingData[:,-1]\n",
        "          self.Batch_GD(trX, trY, teX, teY, kfoldInProgess=True)\n",
        "          temp_holdoutScore.append(self.ErrorValidation[-1])\n",
        "          self.resetInitialVariables()\n",
        "        lamda_holdout[i] = np.mean(temp_holdoutScore)\n",
        "      self.resetInitialVariables()\n",
        "      self.lamda = min(lamda_holdout, key=lamda_holdout.get)\n",
        "    else:\n",
        "      self.lamda = random.uniform(0.001, 1)\n",
        "\n",
        "    return self\n",
        "\n",
        "  def InitializeWeights(self, noofFeatures):\n",
        "    temp = list()\n",
        "    for i in range(noofFeatures):\n",
        "      temp.append(random.uniform(0.001, 0.1))\n",
        "    return np.array(temp)\n",
        "\n",
        "  def Pridction(self, x, getLabel = False):\n",
        "      if getLabel == True:\n",
        "        sig = 1/(1 + np.exp(- np.matmul(x, self.weights)))\n",
        "        sig = np.minimum(sig, 0.9999)\n",
        "        sig = np.maximum(sig, 0.0001)\n",
        "        return self.Generic_GetLabels(sig)\n",
        "      else:\n",
        "        sig = 1/(1 + np.exp(- np.matmul(x, self.weights)))\n",
        "        sig = np.minimum(sig, 0.9999)\n",
        "        return np.maximum(sig, 0.0001)\n",
        "        \n",
        "  def Generic_BinaryCrossEntropy(self, pridicted, actual):\n",
        "      noOfInstance = actual.shape[0]\n",
        "      tempTheta = deepcopy(self.weights)\n",
        "      tempTheta[0] = 0\n",
        "      if self.regularizer == 'l2':\n",
        "        return (np.sum(-((actual * np.log2(pridicted)) + ((1 - actual) * np.log2(1-pridicted))))/noOfInstance) + \\\n",
        "                     (self.lamda/(2*noOfInstance))*np.matmul(tempTheta.transpose(), tempTheta)\n",
        "      elif self.regularizer == 'l1':\n",
        "        return (np.sum(-((actual * np.log2(pridicted)) + ((1 - actual) * np.log2(1-pridicted))))/noOfInstance) + \\\n",
        "                     (self.lamda/noOfInstance)*np.absolute(tempTheta).sum()\n",
        "      else:\n",
        "        return np.sum(-((actual * np.log2(pridicted)) + ((1 - actual) * np.log2(1-pridicted))))/noOfInstance\n",
        "  \n",
        "  def Generic_DerivateWeights(self, pridcted, actual, actualX):\n",
        "      noOfInstance = actualX.shape[0]\n",
        "      tempTheta = deepcopy(self.weights)\n",
        "      tempTheta[0] = 0\n",
        "      if self.regularizer == 'l2':\n",
        "        return (np.matmul(actualX.transpose(), (pridcted-actual))/noOfInstance) + (self.lamda/noOfInstance)*tempTheta\n",
        "      elif self.regularizer == 'l1':\n",
        "        return (np.matmul(actualX.transpose(), (pridcted-actual))/noOfInstance) + (self.lamda/noOfInstance)*np.sign(tempTheta)\n",
        "      else:\n",
        "        return (np.matmul(actualX.transpose(), (pridcted-actual))/noOfInstance)\n",
        "\n",
        "  def Generic_UpdateWeights(self, derivate):\n",
        "      new_weights = list()\n",
        "      for i in range(len(derivate)):\n",
        "        new_weights.append((self.weights[i]-derivate[i]*self.learning_rate))\n",
        "      self.weights = np.array(new_weights)\n",
        "\n",
        "  def Generic_AccuracyScore(self, actual, pridicted):\n",
        "    return np.round(accuracy_score(actual, pridicted), 4)\n",
        "\n",
        "  def Generic_GetLabels(self, pridicted):\n",
        "    return np.where(pridicted>0.5, 1, 0)\n",
        "\n",
        "  def earlyStopping(self, val, best, b_weights, count , pait, monitor, c, kfoldInProgess):\n",
        "    if c > 0:\n",
        "      if monitor == 'val_error':\n",
        "        if val < best:\n",
        "          b_weights = deepcopy(self.weights)\n",
        "          best = val\n",
        "          count = 0\n",
        "        else:\n",
        "          count+=1\n",
        "      else:\n",
        "        if val > best:\n",
        "          b_weights = deepcopy(self.weights)\n",
        "          best = val\n",
        "          count = 0\n",
        "        else:\n",
        "          count+=1\n",
        "\n",
        "      if self.ErrorValidation[c-1] < self.ErrorValidation[c] or count > 15:\n",
        "        pait+=1\n",
        "        if pait > 3:\n",
        "          self.weights = deepcopy(b_weights)\n",
        "          if kfoldInProgess == False:\n",
        "            print('****************BEST WEIGHTS ON WHICH HIGHEST ACCURACY ACHIEVED - RESTORIED******************')\n",
        "          return True, best, b_weights, count, pait\n",
        "        else:\n",
        "          return False, best, b_weights, count, pait\n",
        "      else:\n",
        "        pait = 0\n",
        "        return False, best, b_weights, count, pait\n",
        "    else:\n",
        "      return False, best, self.weights, count, pait\n",
        "\n",
        "\n",
        "\n",
        "  \n",
        "  #////////////////////////////////////////////////////////////////////////////\n",
        "  #/////THESE ARE IMPLEMENTAION OF THE THREE(BATCH, STOCHASTIC, MINI-BATCH) GRADIENT DESCENT\n",
        "  #///////////////////////////////////////////////////////////////////////////\n",
        "\n",
        "  #*******BATCH GRADIENT DESCENT********\n",
        "\n",
        "  def Batch_GD(self, trainX, trainY, testX, testY, monitor='val_error', kfoldInProgess=False):\n",
        "      if kfoldInProgess == False:\n",
        "        if monitor == 'val_error':\n",
        "          best_error = 0\n",
        "        else:\n",
        "          best_accuracy = 0\n",
        "\n",
        "        Patience = 0\n",
        "        No_ofIteration = 0\n",
        "        best_weights = deepcopy(self.weights)\n",
        "        bestUnchangedCount = 0\n",
        "\n",
        "        for c in range(100000000):\n",
        "          print(f\"Epoch {c+1}:\\n\")\n",
        "          hTrain = self.Pridction(trainX)\n",
        "          JTrain = self.Generic_BinaryCrossEntropy(hTrain, trainY)\n",
        "          derivate_weights = self.Generic_DerivateWeights(hTrain, trainY, trainX)\n",
        "          self.Generic_UpdateWeights(derivate_weights)\n",
        "\n",
        "          self.ErrorTrain.append(JTrain)\n",
        "          validation = self.Pridction(testX)\n",
        "          validationError = np.round(self.Generic_BinaryCrossEntropy(validation, testY),8)\n",
        "          validation = self.Generic_GetLabels(validation)\n",
        "          validation_acc = self.Generic_AccuracyScore(testY, validation)\n",
        "          self.ErrorValidation.append(validationError)\n",
        "\n",
        "\n",
        "          print(\"Traning Error : \", end = \" \")\n",
        "          print(f\"{np.round(self.ErrorTrain[c],8)}   ||   Validation Error : {validationError}    Validation Accuracy : {validation_acc}  \")\n",
        "          print()\n",
        "          print(\"===========================================================================================================================================\")\n",
        "          if monitor == 'val_error':\n",
        "            loopBreaker, best_error, best_weights, bestUnchangedCount, Patience = self.earlyStopping(validationError, best_error, best_weights, bestUnchangedCount, Patience, monitor, c, kfoldInProgess)\n",
        "            if(loopBreaker == True):\n",
        "              break\n",
        "          else:\n",
        "            loopBreaker, best_accuracy, best_weights, bestUnchangedCount, Patience = self.earlyStopping(validation_acc, best_accuracy, best_weights, bestUnchangedCount, Patience, monitor, c, kfoldInProgess)\n",
        "            if(loopBreaker == True):\n",
        "              break\n",
        "      else:\n",
        "        if monitor == 'val_error':\n",
        "          best_error = 0\n",
        "        else:\n",
        "          best_accuracy = 0\n",
        "\n",
        "        Patience = 0\n",
        "        No_ofIteration = 0\n",
        "        best_weights = deepcopy(self.weights)\n",
        "        bestUnchangedCount = 0\n",
        "\n",
        "        for c in range(100000000):\n",
        "          hTrain = self.Pridction(trainX)\n",
        "          JTrain = self.Generic_BinaryCrossEntropy(hTrain, trainY)\n",
        "          derivate_weights = self.Generic_DerivateWeights(hTrain, trainY, trainX)\n",
        "          self.Generic_UpdateWeights(derivate_weights)\n",
        "\n",
        "          self.ErrorTrain.append(JTrain)\n",
        "          validation = self.Pridction(testX)\n",
        "          validationError = np.round(self.Generic_BinaryCrossEntropy(validation, testY),8)\n",
        "          validation = self.Generic_GetLabels(validation)\n",
        "          validation_acc = self.Generic_AccuracyScore(testY, validation)\n",
        "          self.ErrorValidation.append(validationError)\n",
        "\n",
        "          if monitor == 'val_error':\n",
        "            loopBreaker, best_error, best_weights, bestUnchangedCount, Patience = self.earlyStopping(validationError, best_error, best_weights, bestUnchangedCount, Patience, monitor, c, kfoldInProgess)\n",
        "            if(loopBreaker == True):\n",
        "              break\n",
        "          else:\n",
        "            loopBreaker, best_accuracy, best_weights, bestUnchangedCount, Patience = self.earlyStopping(validation_acc, best_accuracy, best_weights, bestUnchangedCount, monitor, Patience, c, kfoldInProgess)\n",
        "            if(loopBreaker == True):\n",
        "              break\n",
        "\n",
        "      return self  \n",
        "  \n",
        "\n",
        "  #*******STOCHASTIC GRADIENT DESCENT********\n",
        "\n",
        "  def Stochastic_GD(self, trainX, trainY, testX, testY, monitor='val-error', kfoldInProgess=False):\n",
        "\n",
        "    def Stochastic_BinaryCrossEntropy(pridicted, actual):\n",
        "      tempTheta = deepcopy(self.weights)\n",
        "      tempTheta[0] = 0\n",
        "      if self.regularizer == 'l2':\n",
        "        return (-((actual * np.log2(pridicted)) + ((1 - actual) * np.log2(1-pridicted)))) + \\\n",
        "                        (self.lamda/2)*np.matmul(tempTheta.transpose(), tempTheta)\n",
        "      elif self.regularizer == 'l1':\n",
        "        return (-((actual * np.log2(pridicted)) + ((1 - actual) * np.log2(1-pridicted)))) + \\\n",
        "                        (self.lamda)*np.absolute(tempTheta).sum()\n",
        "      else:\n",
        "        return -((actual * np.log2(pridicted)) + ((1 - actual) * np.log2(1-pridicted)))\n",
        "\n",
        "    def Stochastic_DerivateWeights(pridicted, actual, actualX):\n",
        "      tempTheta = deepcopy(self.weights)\n",
        "      tempTheta[0] = 0\n",
        "      if self.regularizer == 'l2':\n",
        "        return actualX * (pridicted-actual) + (self.lamda)*tempTheta\n",
        "      elif self.regularizer == 'l1':\n",
        "        return actualX * (pridicted-actual) + (self.lamda)*np.sign(tempTheta)\n",
        "      else:\n",
        "        return actualX * (pridicted-actual)\n",
        "\n",
        "    if monitor == 'val_error':\n",
        "        best_error = 0\n",
        "    else:\n",
        "        best_accuracy = 0\n",
        "\n",
        "    Patience = 0\n",
        "    No_ofIteration = 0\n",
        "    best_weights = deepcopy(self.weights)\n",
        "    bestUnchangedCount = 0\n",
        "\n",
        "    for c in range(100000000):\n",
        "      print(f\"Epoch {c+1}:\\n\")\n",
        "\n",
        "      tempTrainError = list()\n",
        "      for r in range(len(trainX)):\n",
        "        hTrain = self.Pridction(trainX[r,:])\n",
        "        JTrain = Stochastic_BinaryCrossEntropy(hTrain, trainY[r])\n",
        "        tempTrainError.append(JTrain)\n",
        "        derivate_weights = Stochastic_DerivateWeights(hTrain, trainY[r], trainX[r,:])\n",
        "        self.Generic_UpdateWeights(derivate_weights)\n",
        "    \n",
        "      self.ErrorTrain.append(np.mean(tempTrainError))\n",
        "      validation = self.Pridction(testX)\n",
        "      validationError = np.round(self.Generic_BinaryCrossEntropy(validation, testY),8)\n",
        "      validation = self.Generic_GetLabels(validation)\n",
        "      validation_acc = self.Generic_AccuracyScore(test_Y, validation)\n",
        "      self.ErrorValidation.append(validationError)\n",
        "\n",
        "      print(end=f\"{r}/{len(trainX)-1} :   Traning Error : \")\n",
        "      print(f\"{np.round(self.ErrorTrain[c],8)}   ||   Validation Error : {validationError}    Validation Accuracy : {validation_acc}  \")\n",
        "      print()\n",
        "      print(\"===========================================================================================================================================\")\n",
        "      \n",
        "      if monitor == 'val_error':\n",
        "          loopBreaker, best_error, best_weights, bestUnchangedCount, Patience = self.earlyStopping(validationError, best_error, best_weights, bestUnchangedCount, Patience, monitor, c,kfoldInProgess)\n",
        "          if(loopBreaker == True):\n",
        "            break\n",
        "      else:\n",
        "          loopBreaker, best_accuracy, best_weights, bestUnchangedCount, Patience = self.earlyStopping(validation_acc, best_accuracy, best_weights, bestUnchangedCount, Patience, monitor, c, kfoldInProgess)\n",
        "          if(loopBreaker == True):\n",
        "            break\n",
        "    \n",
        "    return self\n",
        "\n",
        "\n",
        "\n",
        "  #*******MINI-BATCH GRADIENT DESCENT********\n",
        "\n",
        "  def MiniBatch_GD(self, trainX, trainY, testX, testY, batch_size, monitor='val-error', kfoldInProgess= False):\n",
        "    \n",
        "    if monitor == 'val_error':\n",
        "        best_error = 0\n",
        "    else:\n",
        "        best_accuracy = 0\n",
        "\n",
        "    Patience = 0\n",
        "    No_ofIteration = 0\n",
        "    best_weights = deepcopy(self.weights)\n",
        "    bestUnchangedCount = 0\n",
        "    No_ofDataPerEpoch = len(trainX)//batch_size\n",
        "\n",
        "    for c in range(100000000):\n",
        "      print(f\"Epoch {c+1}:\\n\")\n",
        "\n",
        "      batch_start = 0\n",
        "      batch_end = 0\n",
        "      tempTrainError = list()\n",
        "\n",
        "      for r in range(No_ofDataPerEpoch):\n",
        "        batch_start = batch_end\n",
        "        batch_end = batch_start + batch_size\n",
        "        hTrain = self.Pridction(trainX[batch_start:batch_end,:])\n",
        "        JTrain = self.Generic_BinaryCrossEntropy(hTrain, trainY[batch_start:batch_end])\n",
        "        tempTrainError.append(JTrain)\n",
        "        derivate_weights = self.Generic_DerivateWeights(hTrain, trainY[batch_start:batch_end], trainX[batch_start:batch_end,:])\n",
        "        self.Generic_UpdateWeights(derivate_weights)\n",
        "\n",
        "      self.ErrorTrain.append(np.mean(tempTrainError))\n",
        "      validation = self.Pridction(testX)\n",
        "      validationError = np.round(self.Generic_BinaryCrossEntropy(validation, testY),8)\n",
        "      validation = self.Generic_GetLabels(validation)\n",
        "      validation_acc = self.Generic_AccuracyScore(test_Y, validation)\n",
        "      self.ErrorValidation.append(validationError)\n",
        "\n",
        "      print(end=\"Traning Error : \")\n",
        "      print(f\"{np.round(self.ErrorTrain[c],8)}   ||   Validation Error : {validationError}    Validation Accuracy : {validation_acc}  \")\n",
        "      print()\n",
        "      print(\"===========================================================================================================================================\")\n",
        "      \n",
        "      if monitor == 'val_error':\n",
        "          loopBreaker, best_error, best_weights, bestUnchangedCount, Patience = self.earlyStopping(validationError, best_error, best_weights, bestUnchangedCount, Patience, monitor, c, kfoldInProgess)\n",
        "          if(loopBreaker == True):\n",
        "            break\n",
        "      else:\n",
        "          loopBreaker, best_accuracy, best_weights, bestUnchangedCount, Patience = self.earlyStopping(validation_acc, best_accuracy, best_weights, bestUnchangedCount,Patience, monitor, c, kfoldInProgess)\n",
        "          if(loopBreaker == True):\n",
        "            break\n",
        "    \n",
        "    return self\n"
      ],
      "metadata": {
        "id": "DseOmqQtqfYF"
      },
      "execution_count": 380,
      "outputs": []
    },
    {
      "cell_type": "markdown",
      "source": [
        "#Batch Gradient Descent "
      ],
      "metadata": {
        "id": "HLh7r_jWIdTy"
      }
    },
    {
      "cell_type": "markdown",
      "source": [
        "-----------------***********---------------------<br>\n",
        "Batch Gradient Descent with L2 Regualarization<br>\n",
        "-----------------***********---------------------<br>"
      ],
      "metadata": {
        "id": "4vKkRvX2_d6c"
      }
    },
    {
      "cell_type": "code",
      "source": [
        "Batch_ModelL2 = Logistic_Regressor(No_ofFeatures, 0.1, regularizer='l2')\n",
        "Batch_ModelL2.IntializeLamda(train_X, train_Y)\n",
        "Batch_ModelL2.Batch_GD(train_X, train_Y, test_X, test_Y, monitor='val_accuracy')"
      ],
      "metadata": {
        "colab": {
          "base_uri": "https://localhost:8080/"
        },
        "id": "cTkV2U3kC4I2",
        "outputId": "2bb4591d-dc25-4b9c-f03a-b357b4b1d6a2"
      },
      "execution_count": 381,
      "outputs": [
        {
          "output_type": "stream",
          "name": "stdout",
          "text": [
            "\n",
            "***********************************************\n",
            "\tPLEASE WAIT......Preforming KFold to tune Lamba for Regualarization.....\n",
            "Epoch 1:\n",
            "\n",
            "Traning Error :  0.8965389   ||   Validation Error : 0.91635312    Validation Accuracy : 0.6767  \n",
            "\n",
            "===========================================================================================================================================\n",
            "Epoch 2:\n",
            "\n",
            "Traning Error :  0.8897637   ||   Validation Error : 0.91141887    Validation Accuracy : 0.6805  \n",
            "\n",
            "===========================================================================================================================================\n",
            "Epoch 3:\n",
            "\n",
            "Traning Error :  0.88435127   ||   Validation Error : 0.90713787    Validation Accuracy : 0.6842  \n",
            "\n",
            "===========================================================================================================================================\n",
            "Epoch 4:\n",
            "\n",
            "Traning Error :  0.87985924   ||   Validation Error : 0.90331174    Validation Accuracy : 0.688  \n",
            "\n",
            "===========================================================================================================================================\n",
            "Epoch 5:\n",
            "\n",
            "Traning Error :  0.87601213   ||   Validation Error : 0.89981657    Validation Accuracy : 0.688  \n",
            "\n",
            "===========================================================================================================================================\n",
            "Epoch 6:\n",
            "\n",
            "Traning Error :  0.87263307   ||   Validation Error : 0.89657305    Validation Accuracy : 0.688  \n",
            "\n",
            "===========================================================================================================================================\n",
            "Epoch 7:\n",
            "\n",
            "Traning Error :  0.86960528   ||   Validation Error : 0.89352923    Validation Accuracy : 0.6917  \n",
            "\n",
            "===========================================================================================================================================\n",
            "Epoch 8:\n",
            "\n",
            "Traning Error :  0.86684975   ||   Validation Error : 0.89065026    Validation Accuracy : 0.688  \n",
            "\n",
            "===========================================================================================================================================\n",
            "Epoch 9:\n",
            "\n",
            "Traning Error :  0.86431167   ||   Validation Error : 0.8879122    Validation Accuracy : 0.6842  \n",
            "\n",
            "===========================================================================================================================================\n",
            "Epoch 10:\n",
            "\n",
            "Traning Error :  0.86195221   ||   Validation Error : 0.88529815    Validation Accuracy : 0.6842  \n",
            "\n",
            "===========================================================================================================================================\n",
            "Epoch 11:\n",
            "\n",
            "Traning Error :  0.85974316   ||   Validation Error : 0.88279583    Validation Accuracy : 0.6917  \n",
            "\n",
            "===========================================================================================================================================\n",
            "Epoch 12:\n",
            "\n",
            "Traning Error :  0.85766362   ||   Validation Error : 0.88039602    Validation Accuracy : 0.6955  \n",
            "\n",
            "===========================================================================================================================================\n",
            "Epoch 13:\n",
            "\n",
            "Traning Error :  0.85569769   ||   Validation Error : 0.87809154    Validation Accuracy : 0.6992  \n",
            "\n",
            "===========================================================================================================================================\n",
            "Epoch 14:\n",
            "\n",
            "Traning Error :  0.85383306   ||   Validation Error : 0.87587658    Validation Accuracy : 0.703  \n",
            "\n",
            "===========================================================================================================================================\n",
            "Epoch 15:\n",
            "\n",
            "Traning Error :  0.85205993   ||   Validation Error : 0.87374632    Validation Accuracy : 0.703  \n",
            "\n",
            "===========================================================================================================================================\n",
            "Epoch 16:\n",
            "\n",
            "Traning Error :  0.85037035   ||   Validation Error : 0.87169657    Validation Accuracy : 0.703  \n",
            "\n",
            "===========================================================================================================================================\n",
            "Epoch 17:\n",
            "\n",
            "Traning Error :  0.84875775   ||   Validation Error : 0.86972364    Validation Accuracy : 0.6992  \n",
            "\n",
            "===========================================================================================================================================\n",
            "Epoch 18:\n",
            "\n",
            "Traning Error :  0.84721658   ||   Validation Error : 0.86782416    Validation Accuracy : 0.7068  \n",
            "\n",
            "===========================================================================================================================================\n",
            "Epoch 19:\n",
            "\n",
            "Traning Error :  0.84574205   ||   Validation Error : 0.86599505    Validation Accuracy : 0.703  \n",
            "\n",
            "===========================================================================================================================================\n",
            "Epoch 20:\n",
            "\n",
            "Traning Error :  0.84433002   ||   Validation Error : 0.86423341    Validation Accuracy : 0.703  \n",
            "\n",
            "===========================================================================================================================================\n",
            "Epoch 21:\n",
            "\n",
            "Traning Error :  0.84297679   ||   Validation Error : 0.86253651    Validation Accuracy : 0.7068  \n",
            "\n",
            "===========================================================================================================================================\n",
            "Epoch 22:\n",
            "\n",
            "Traning Error :  0.84167906   ||   Validation Error : 0.86090177    Validation Accuracy : 0.7068  \n",
            "\n",
            "===========================================================================================================================================\n",
            "Epoch 23:\n",
            "\n",
            "Traning Error :  0.84043386   ||   Validation Error : 0.85932671    Validation Accuracy : 0.703  \n",
            "\n",
            "===========================================================================================================================================\n",
            "Epoch 24:\n",
            "\n",
            "Traning Error :  0.83923848   ||   Validation Error : 0.85780898    Validation Accuracy : 0.6992  \n",
            "\n",
            "===========================================================================================================================================\n",
            "Epoch 25:\n",
            "\n",
            "Traning Error :  0.8380904   ||   Validation Error : 0.85634631    Validation Accuracy : 0.6992  \n",
            "\n",
            "===========================================================================================================================================\n",
            "Epoch 26:\n",
            "\n",
            "Traning Error :  0.83698734   ||   Validation Error : 0.85493652    Validation Accuracy : 0.6955  \n",
            "\n",
            "===========================================================================================================================================\n",
            "Epoch 27:\n",
            "\n",
            "Traning Error :  0.83592714   ||   Validation Error : 0.85357754    Validation Accuracy : 0.6955  \n",
            "\n",
            "===========================================================================================================================================\n",
            "Epoch 28:\n",
            "\n",
            "Traning Error :  0.83490781   ||   Validation Error : 0.85226736    Validation Accuracy : 0.6955  \n",
            "\n",
            "===========================================================================================================================================\n",
            "Epoch 29:\n",
            "\n",
            "Traning Error :  0.83392748   ||   Validation Error : 0.85100405    Validation Accuracy : 0.6955  \n",
            "\n",
            "===========================================================================================================================================\n",
            "Epoch 30:\n",
            "\n",
            "Traning Error :  0.83298439   ||   Validation Error : 0.84978577    Validation Accuracy : 0.6992  \n",
            "\n",
            "===========================================================================================================================================\n",
            "Epoch 31:\n",
            "\n",
            "Traning Error :  0.83207688   ||   Validation Error : 0.84861074    Validation Accuracy : 0.6992  \n",
            "\n",
            "===========================================================================================================================================\n",
            "Epoch 32:\n",
            "\n",
            "Traning Error :  0.83120341   ||   Validation Error : 0.84747726    Validation Accuracy : 0.6992  \n",
            "\n",
            "===========================================================================================================================================\n",
            "Epoch 33:\n",
            "\n",
            "Traning Error :  0.83036249   ||   Validation Error : 0.84638369    Validation Accuracy : 0.703  \n",
            "\n",
            "===========================================================================================================================================\n",
            "Epoch 34:\n",
            "\n",
            "Traning Error :  0.82955273   ||   Validation Error : 0.84532848    Validation Accuracy : 0.703  \n",
            "\n",
            "===========================================================================================================================================\n",
            "Epoch 35:\n",
            "\n",
            "Traning Error :  0.82877281   ||   Validation Error : 0.8443101    Validation Accuracy : 0.7068  \n",
            "\n",
            "===========================================================================================================================================\n",
            "Epoch 36:\n",
            "\n",
            "Traning Error :  0.82802147   ||   Validation Error : 0.84332712    Validation Accuracy : 0.703  \n",
            "\n",
            "===========================================================================================================================================\n",
            "Epoch 37:\n",
            "\n",
            "Traning Error :  0.82729752   ||   Validation Error : 0.84237815    Validation Accuracy : 0.7068  \n",
            "\n",
            "===========================================================================================================================================\n",
            "****************BEST WEIGHTS ON WHICH HIGHEST ACCURACY ACHIEVED - RESTORIED******************\n"
          ]
        },
        {
          "output_type": "execute_result",
          "data": {
            "text/plain": [
              "<__main__.Logistic_Regressor at 0x7f9b083803d0>"
            ]
          },
          "metadata": {},
          "execution_count": 381
        }
      ]
    },
    {
      "cell_type": "code",
      "source": [
        "validation_prediction_BatchL2 = Batch_ModelL2.Pridction(test_X, getLabel=True)\n",
        "print(f\"Accuracy on Validation Data : {Batch_ModelL2.Generic_AccuracyScore(test_Y, validation_prediction_BatchL2)}\")"
      ],
      "metadata": {
        "colab": {
          "base_uri": "https://localhost:8080/"
        },
        "id": "oF5_bIw8IPFg",
        "outputId": "4e3ad59d-3f35-4206-822a-40b23a734555"
      },
      "execution_count": 382,
      "outputs": [
        {
          "output_type": "stream",
          "name": "stdout",
          "text": [
            "Accuracy on Validation Data : 0.7068\n"
          ]
        }
      ]
    },
    {
      "cell_type": "code",
      "source": [
        "plt.plot(range(len(Batch_ModelL2.ErrorTrain)), Batch_ModelL2.ErrorTrain, c= 'blue', label = 'ErrorTrain')\n",
        "plt.plot(range(len(Batch_ModelL2.ErrorValidation)), Batch_ModelL2.ErrorValidation, c= 'red', label = 'ErrorValidation')\n",
        "plt.gca().xaxis.set_major_locator(MaxNLocator(integer=True))\n",
        "plt.xlabel('Epochs')\n",
        "plt.ylabel('Train Error, Validation Error')\n",
        "plt.title(\"ErrorTrain and ErrorValidation vs Epochs\")\n",
        "plt.legend()\n",
        "plt.show"
      ],
      "metadata": {
        "colab": {
          "base_uri": "https://localhost:8080/",
          "height": 313
        },
        "id": "r3iRnXS7a3uK",
        "outputId": "cfccfdc3-2f65-47c8-cd3d-2ea43202aa76"
      },
      "execution_count": 383,
      "outputs": [
        {
          "output_type": "execute_result",
          "data": {
            "text/plain": [
              "<function matplotlib.pyplot.show>"
            ]
          },
          "metadata": {},
          "execution_count": 383
        },
        {
          "output_type": "display_data",
          "data": {
            "text/plain": [
              "<Figure size 432x288 with 1 Axes>"
            ],
            "image/png": "[encoded data removed]"
          },
          "metadata": {
            "needs_background": "light"
          }
        }
      ]
    },
    {
      "cell_type": "code",
      "source": [
        "print(classification_report(test_Y, validation_prediction_BatchL2))\n",
        "conf_Matrix_BGDL2 = confusion_matrix(test_Y, validation_prediction_BatchL2)\n",
        "sns.heatmap(conf_Matrix_BGDL2, annot=True)\n",
        "print(\"Accuracy : \", (conf_Matrix_BGDL2[0,0] + conf_Matrix_BGDL2[1,1])/(np.sum(conf_Matrix_BGDL2)))"
      ],
      "metadata": {
        "colab": {
          "base_uri": "https://localhost:8080/",
          "height": 447
        },
        "id": "YgEWOS5UgLXP",
        "outputId": "11690cde-4585-45b8-e3d6-d2212518a9ed"
      },
      "execution_count": 384,
      "outputs": [
        {
          "output_type": "stream",
          "name": "stdout",
          "text": [
            "              precision    recall  f1-score   support\n",
            "\n",
            "         0.0       0.58      0.70      0.64        98\n",
            "         1.0       0.80      0.71      0.75       168\n",
            "\n",
            "    accuracy                           0.71       266\n",
            "   macro avg       0.69      0.71      0.70       266\n",
            "weighted avg       0.72      0.71      0.71       266\n",
            "\n",
            "Accuracy :  0.706766917293233\n"
          ]
        },
        {
          "output_type": "display_data",
          "data": {
            "text/plain": [
              "<Figure size 432x288 with 2 Axes>"
            ],
            "image/png": "[encoded data removed]"
          },
          "metadata": {
            "needs_background": "light"
          }
        }
      ]
    },
    {
      "cell_type": "markdown",
      "source": [
        "-----------------***********---------------------<br>\n",
        "Batch Gradient Descent with L1 Regualarization<br>\n",
        "-----------------***********---------------------<br>"
      ],
      "metadata": {
        "id": "tA5xdM8a_kXs"
      }
    },
    {
      "cell_type": "code",
      "source": [
        "Batch_ModelL1 = Logistic_Regressor(No_ofFeatures, 0.1, regularizer='l1')\n",
        "Batch_ModelL1.IntializeLamda(train_X, train_Y)\n",
        "Batch_ModelL1.Batch_GD(train_X, train_Y, test_X, test_Y, monitor='val_accuracy')"
      ],
      "metadata": {
        "colab": {
          "base_uri": "https://localhost:8080/"
        },
        "id": "n_PAg7tVxyk-",
        "outputId": "b893e74d-16db-4f7d-a3c8-2a2ee9afe2a0"
      },
      "execution_count": 385,
      "outputs": [
        {
          "output_type": "stream",
          "name": "stdout",
          "text": [
            "\n",
            "***********************************************\n",
            "\tPLEASE WAIT......Preforming KFold to tune Lamba for Regualarization.....\n",
            "Epoch 1:\n",
            "\n",
            "Traning Error :  0.89175387   ||   Validation Error : 0.9106503    Validation Accuracy : 0.6654  \n",
            "\n",
            "===========================================================================================================================================\n",
            "Epoch 2:\n",
            "\n",
            "Traning Error :  0.88540227   ||   Validation Error : 0.90612979    Validation Accuracy : 0.6692  \n",
            "\n",
            "===========================================================================================================================================\n",
            "Epoch 3:\n",
            "\n",
            "Traning Error :  0.88029035   ||   Validation Error : 0.90219269    Validation Accuracy : 0.6692  \n",
            "\n",
            "===========================================================================================================================================\n",
            "Epoch 4:\n",
            "\n",
            "Traning Error :  0.87603046   ||   Validation Error : 0.89866923    Validation Accuracy : 0.6692  \n",
            "\n",
            "===========================================================================================================================================\n",
            "Epoch 5:\n",
            "\n",
            "Traning Error :  0.87237717   ||   Validation Error : 0.8954516    Validation Accuracy : 0.6767  \n",
            "\n",
            "===========================================================================================================================================\n",
            "Epoch 6:\n",
            "\n",
            "Traning Error :  0.86917027   ||   Validation Error : 0.89246961    Validation Accuracy : 0.6767  \n",
            "\n",
            "===========================================================================================================================================\n",
            "Epoch 7:\n",
            "\n",
            "Traning Error :  0.86630227   ||   Validation Error : 0.88967641    Validation Accuracy : 0.6805  \n",
            "\n",
            "===========================================================================================================================================\n",
            "Epoch 8:\n",
            "\n",
            "Traning Error :  0.86369921   ||   Validation Error : 0.88704    Validation Accuracy : 0.6805  \n",
            "\n",
            "===========================================================================================================================================\n",
            "Epoch 9:\n",
            "\n",
            "Traning Error :  0.86130899   ||   Validation Error : 0.88453793    Validation Accuracy : 0.6842  \n",
            "\n",
            "===========================================================================================================================================\n",
            "Epoch 10:\n",
            "\n",
            "Traning Error :  0.85909408   ||   Validation Error : 0.88215406    Validation Accuracy : 0.6955  \n",
            "\n",
            "===========================================================================================================================================\n",
            "Epoch 11:\n",
            "\n",
            "Traning Error :  0.85702683   ||   Validation Error : 0.87987639    Validation Accuracy : 0.6955  \n",
            "\n",
            "===========================================================================================================================================\n",
            "Epoch 12:\n",
            "\n",
            "Traning Error :  0.85508645   ||   Validation Error : 0.87769578    Validation Accuracy : 0.6955  \n",
            "\n",
            "===========================================================================================================================================\n",
            "Epoch 13:\n",
            "\n",
            "Traning Error :  0.85325698   ||   Validation Error : 0.87560502    Validation Accuracy : 0.6992  \n",
            "\n",
            "===========================================================================================================================================\n",
            "Epoch 14:\n",
            "\n",
            "Traning Error :  0.85152588   ||   Validation Error : 0.87359819    Validation Accuracy : 0.6992  \n",
            "\n",
            "===========================================================================================================================================\n",
            "Epoch 15:\n",
            "\n",
            "Traning Error :  0.84988314   ||   Validation Error : 0.87167036    Validation Accuracy : 0.6917  \n",
            "\n",
            "===========================================================================================================================================\n",
            "Epoch 16:\n",
            "\n",
            "Traning Error :  0.8483206   ||   Validation Error : 0.86981725    Validation Accuracy : 0.688  \n",
            "\n",
            "===========================================================================================================================================\n",
            "Epoch 17:\n",
            "\n",
            "Traning Error :  0.84683148   ||   Validation Error : 0.8680351    Validation Accuracy : 0.688  \n",
            "\n",
            "===========================================================================================================================================\n",
            "Epoch 18:\n",
            "\n",
            "Traning Error :  0.84541007   ||   Validation Error : 0.86632052    Validation Accuracy : 0.688  \n",
            "\n",
            "===========================================================================================================================================\n",
            "Epoch 19:\n",
            "\n",
            "Traning Error :  0.8440515   ||   Validation Error : 0.86467041    Validation Accuracy : 0.688  \n",
            "\n",
            "===========================================================================================================================================\n",
            "Epoch 20:\n",
            "\n",
            "Traning Error :  0.84275151   ||   Validation Error : 0.8630819    Validation Accuracy : 0.6917  \n",
            "\n",
            "===========================================================================================================================================\n",
            "Epoch 21:\n",
            "\n",
            "Traning Error :  0.84150638   ||   Validation Error : 0.86155232    Validation Accuracy : 0.6917  \n",
            "\n",
            "===========================================================================================================================================\n",
            "Epoch 22:\n",
            "\n",
            "Traning Error :  0.8403128   ||   Validation Error : 0.86007915    Validation Accuracy : 0.6917  \n",
            "\n",
            "===========================================================================================================================================\n",
            "Epoch 23:\n",
            "\n",
            "Traning Error :  0.8391678   ||   Validation Error : 0.85866001    Validation Accuracy : 0.688  \n",
            "\n",
            "===========================================================================================================================================\n",
            "Epoch 24:\n",
            "\n",
            "Traning Error :  0.83806872   ||   Validation Error : 0.85729265    Validation Accuracy : 0.6805  \n",
            "\n",
            "===========================================================================================================================================\n",
            "Epoch 25:\n",
            "\n",
            "Traning Error :  0.8370131   ||   Validation Error : 0.8559749    Validation Accuracy : 0.6767  \n",
            "\n",
            "===========================================================================================================================================\n",
            "Epoch 26:\n",
            "\n",
            "Traning Error :  0.83599871   ||   Validation Error : 0.85470475    Validation Accuracy : 0.6805  \n",
            "\n",
            "===========================================================================================================================================\n",
            "Epoch 27:\n",
            "\n",
            "Traning Error :  0.8350235   ||   Validation Error : 0.85348022    Validation Accuracy : 0.688  \n",
            "\n",
            "===========================================================================================================================================\n",
            "Epoch 28:\n",
            "\n",
            "Traning Error :  0.83408556   ||   Validation Error : 0.85229947    Validation Accuracy : 0.688  \n",
            "\n",
            "===========================================================================================================================================\n",
            "Epoch 29:\n",
            "\n",
            "Traning Error :  0.83318312   ||   Validation Error : 0.85116071    Validation Accuracy : 0.6917  \n",
            "\n",
            "===========================================================================================================================================\n",
            "Epoch 30:\n",
            "\n",
            "Traning Error :  0.83231453   ||   Validation Error : 0.85006225    Validation Accuracy : 0.6917  \n",
            "\n",
            "===========================================================================================================================================\n",
            "Epoch 31:\n",
            "\n",
            "Traning Error :  0.83147825   ||   Validation Error : 0.84900245    Validation Accuracy : 0.6992  \n",
            "\n",
            "===========================================================================================================================================\n",
            "Epoch 32:\n",
            "\n",
            "Traning Error :  0.83067283   ||   Validation Error : 0.84797977    Validation Accuracy : 0.6992  \n",
            "\n",
            "===========================================================================================================================================\n",
            "****************BEST WEIGHTS ON WHICH HIGHEST ACCURACY ACHIEVED - RESTORIED******************\n"
          ]
        },
        {
          "output_type": "execute_result",
          "data": {
            "text/plain": [
              "<__main__.Logistic_Regressor at 0x7f9b080da290>"
            ]
          },
          "metadata": {},
          "execution_count": 385
        }
      ]
    },
    {
      "cell_type": "code",
      "source": [
        "validation_prediction_BatchL1 = Batch_ModelL1.Pridction(test_X, getLabel=True)\n",
        "print(f\"Accuracy on Validation Data : {Batch_ModelL1.Generic_AccuracyScore(test_Y, validation_prediction_BatchL1)}\")"
      ],
      "metadata": {
        "colab": {
          "base_uri": "https://localhost:8080/"
        },
        "id": "3Sh08f5SykkR",
        "outputId": "bda266e5-b374-4d6e-89db-b085f4446014"
      },
      "execution_count": 386,
      "outputs": [
        {
          "output_type": "stream",
          "name": "stdout",
          "text": [
            "Accuracy on Validation Data : 0.6992\n"
          ]
        }
      ]
    },
    {
      "cell_type": "code",
      "source": [
        "plt.plot(range(len(Batch_ModelL1.ErrorTrain)), Batch_ModelL1.ErrorTrain, c= 'blue', label = 'ErrorTrain')\n",
        "plt.plot(range(len(Batch_ModelL1.ErrorValidation)), Batch_ModelL1.ErrorValidation, c= 'red', label = 'ErrorValidation')\n",
        "plt.gca().xaxis.set_major_locator(MaxNLocator(integer=True))\n",
        "plt.xlabel('Epochs')\n",
        "plt.ylabel('Train Error, Validation Error')\n",
        "plt.title(\"ErrorTrain and ErrorValidation vs Epochs\")\n",
        "plt.legend()\n",
        "plt.show"
      ],
      "metadata": {
        "colab": {
          "base_uri": "https://localhost:8080/",
          "height": 313
        },
        "id": "Onl1pexYyoqt",
        "outputId": "47020276-524a-47a1-be14-69d9d4368b72"
      },
      "execution_count": 388,
      "outputs": [
        {
          "output_type": "execute_result",
          "data": {
            "text/plain": [
              "<function matplotlib.pyplot.show>"
            ]
          },
          "metadata": {},
          "execution_count": 388
        },
        {
          "output_type": "display_data",
          "data": {
            "text/plain": [
              "<Figure size 432x288 with 1 Axes>"
            ],
            "image/png": "[encoded data removed]"
          },
          "metadata": {
            "needs_background": "light"
          }
        }
      ]
    },
    {
      "cell_type": "code",
      "source": [
        "print(classification_report(test_Y, validation_prediction_BatchL1))\n",
        "conf_Matrix_BGDL1 = confusion_matrix(test_Y, validation_prediction_BatchL1)\n",
        "sns.heatmap(conf_Matrix_BGDL1, annot=True)\n",
        "print(\"Accuracy : \", (conf_Matrix_BGDL1[0,0] + conf_Matrix_BGDL1[1,1])/(np.sum(conf_Matrix_BGDL1)))"
      ],
      "metadata": {
        "colab": {
          "base_uri": "https://localhost:8080/",
          "height": 447
        },
        "id": "iC4QJxj3yrta",
        "outputId": "8a29018e-d6e1-44b4-94cf-34ba00098a17"
      },
      "execution_count": 389,
      "outputs": [
        {
          "output_type": "stream",
          "name": "stdout",
          "text": [
            "              precision    recall  f1-score   support\n",
            "\n",
            "         0.0       0.57      0.71      0.64        98\n",
            "         1.0       0.81      0.69      0.74       168\n",
            "\n",
            "    accuracy                           0.70       266\n",
            "   macro avg       0.69      0.70      0.69       266\n",
            "weighted avg       0.72      0.70      0.70       266\n",
            "\n",
            "Accuracy :  0.6992481203007519\n"
          ]
        },
        {
          "output_type": "display_data",
          "data": {
            "text/plain": [
              "<Figure size 432x288 with 2 Axes>"
            ],
            "image/png": "[encoded data removed]"
          },
          "metadata": {
            "needs_background": "light"
          }
        }
      ]
    },
    {
      "cell_type": "markdown",
      "source": [
        "-----------------***********---------------------<br>\n",
        "Comparing L1 and L2 on Batch Gradient Descent<br>\n",
        "-----------------***********---------------------<br>"
      ],
      "metadata": {
        "id": "Ir2ldqbKH0Hk"
      }
    },
    {
      "cell_type": "code",
      "source": [
        "plt.plot(range(len(Batch_ModelL1.ErrorValidation)), Batch_ModelL1.ErrorValidation, c= 'blue', label = 'l1 Error Validation')\n",
        "plt.plot(range(len(Batch_ModelL2.ErrorValidation)), Batch_ModelL2.ErrorValidation, c= 'red', label = 'l2 Error Validation')\n",
        "plt.gca().xaxis.set_major_locator(MaxNLocator(integer=True))\n",
        "plt.xlabel('Epochs')\n",
        "plt.ylabel('L1 val_error, L2 val_error')\n",
        "plt.title(\"L1 Validation Error vs L2 Validation Error\")\n",
        "plt.legend()\n",
        "plt.show"
      ],
      "metadata": {
        "colab": {
          "base_uri": "https://localhost:8080/",
          "height": 313
        },
        "id": "_4WOFCTfHzoY",
        "outputId": "4e00d7e4-5256-4250-82cc-b24fc6702db2"
      },
      "execution_count": 407,
      "outputs": [
        {
          "output_type": "execute_result",
          "data": {
            "text/plain": [
              "<function matplotlib.pyplot.show>"
            ]
          },
          "metadata": {},
          "execution_count": 407
        },
        {
          "output_type": "display_data",
          "data": {
            "text/plain": [
              "<Figure size 432x288 with 1 Axes>"
            ],
            "image/png": "[encoded data removed]"
          },
          "metadata": {
            "needs_background": "light"
          }
        }
      ]
    },
    {
      "cell_type": "markdown",
      "source": [
        "From the graph it can be seen that Validation Error on l1 is smaller at beginning but slowly start to get equal to l2 regularization. So overall for this dataset there isn't a very big difference in the preformance of l1 and l2 regualarization."
      ],
      "metadata": {
        "id": "iMnHor_lItxK"
      }
    },
    {
      "cell_type": "markdown",
      "source": [
        "#Stochastic Gradient Descent"
      ],
      "metadata": {
        "id": "xzz6s7SHIheq"
      }
    },
    {
      "cell_type": "markdown",
      "source": [
        "-----------------***********---------------------<br>\n",
        "Stochastic Gradient Descent with L2 Regualarization<br>\n",
        "-----------------***********---------------------<br>"
      ],
      "metadata": {
        "id": "I6O-pxv4_3rv"
      }
    },
    {
      "cell_type": "code",
      "execution_count": 390,
      "metadata": {
        "colab": {
          "base_uri": "https://localhost:8080/"
        },
        "id": "sKB2yiTjUfue",
        "outputId": "b9f5dce7-e111-4518-b716-7b2612fd5195"
      },
      "outputs": [
        {
          "output_type": "stream",
          "name": "stdout",
          "text": [
            "\n",
            "***********************************************\n",
            "\tPLEASE WAIT......Preforming KFold to tune Lamba for Regualarization.....\n",
            "Epoch 1:\n",
            "\n",
            "1062/1062 :   Traning Error : 0.94319628   ||   Validation Error : 0.83873204    Validation Accuracy : 0.7218  \n",
            "\n",
            "===========================================================================================================================================\n",
            "Epoch 2:\n",
            "\n",
            "1062/1062 :   Traning Error : 0.93580059   ||   Validation Error : 0.84180498    Validation Accuracy : 0.7218  \n",
            "\n",
            "===========================================================================================================================================\n",
            "Epoch 3:\n",
            "\n",
            "1062/1062 :   Traning Error : 0.93507043   ||   Validation Error : 0.8437951    Validation Accuracy : 0.7218  \n",
            "\n",
            "===========================================================================================================================================\n",
            "Epoch 4:\n",
            "\n",
            "1062/1062 :   Traning Error : 0.93491001   ||   Validation Error : 0.84476517    Validation Accuracy : 0.7218  \n",
            "\n",
            "===========================================================================================================================================\n",
            "Epoch 5:\n",
            "\n",
            "1062/1062 :   Traning Error : 0.9348059   ||   Validation Error : 0.84520851    Validation Accuracy : 0.7256  \n",
            "\n",
            "===========================================================================================================================================\n",
            "****************BEST WEIGHTS ON WHICH HIGHEST ACCURACY ACHIEVED - RESTORIED******************\n"
          ]
        },
        {
          "output_type": "execute_result",
          "data": {
            "text/plain": [
              "<__main__.Logistic_Regressor at 0x7f9b080e1d90>"
            ]
          },
          "metadata": {},
          "execution_count": 390
        }
      ],
      "source": [
        "SGD_ModelL2 = Logistic_Regressor(No_ofFeatures, 0.1, regularizer='l2')\n",
        "SGD_ModelL2.IntializeLamda(train_X, train_Y)\n",
        "SGD_ModelL2.Stochastic_GD(train_X, train_Y, test_X, test_Y, monitor='val_accuracy')"
      ]
    },
    {
      "cell_type": "code",
      "execution_count": 391,
      "metadata": {
        "colab": {
          "base_uri": "https://localhost:8080/"
        },
        "id": "pezO-n42M4Hn",
        "outputId": "3b356e29-fb17-4b1d-f87f-da7348f7ac5c"
      },
      "outputs": [
        {
          "output_type": "stream",
          "name": "stdout",
          "text": [
            "Accuracy on Testing Data : 0.7256\n"
          ]
        }
      ],
      "source": [
        "validation_predictionL2 = SGD_ModelL2.Pridction(test_X, getLabel=True)\n",
        "print(f\"Accuracy on Testing Data : {SGD_ModelL2.Generic_AccuracyScore(test_Y, validation_predictionL2)}\")"
      ]
    },
    {
      "cell_type": "code",
      "source": [
        "plt.plot(range(len(SGD_ModelL2.ErrorTrain)), SGD_ModelL2.ErrorTrain, c= 'blue', label = 'ErrorTrain')\n",
        "plt.plot(range(len(SGD_ModelL2.ErrorValidation)), SGD_ModelL2.ErrorValidation, c= 'red', label = 'ErrorValidation')\n",
        "plt.gca().xaxis.set_major_locator(MaxNLocator(integer=True))\n",
        "plt.xlabel('Epochs')\n",
        "plt.ylabel('Train Error, Validation Error')\n",
        "plt.title(\"ErrorTrain and ErrorValidation vs Epochs\")\n",
        "plt.legend()\n",
        "plt.show"
      ],
      "metadata": {
        "colab": {
          "base_uri": "https://localhost:8080/",
          "height": 313
        },
        "id": "61hp3uENapzb",
        "outputId": "5997002a-8596-439c-d8d4-d8ec09e96592"
      },
      "execution_count": 392,
      "outputs": [
        {
          "output_type": "execute_result",
          "data": {
            "text/plain": [
              "<function matplotlib.pyplot.show>"
            ]
          },
          "metadata": {},
          "execution_count": 392
        },
        {
          "output_type": "display_data",
          "data": {
            "text/plain": [
              "<Figure size 432x288 with 1 Axes>"
            ],
            "image/png": "[encoded data removed]"
          },
          "metadata": {
            "needs_background": "light"
          }
        }
      ]
    },
    {
      "cell_type": "code",
      "source": [
        "print(classification_report(test_Y, validation_predictionL2))\n",
        "conf_Matrix_SGDL2 = confusion_matrix(test_Y, validation_predictionL2)\n",
        "sns.heatmap(conf_Matrix_SGDL2, annot=True)\n",
        "print(\"Accuracy : \", (conf_Matrix_SGDL2[0,0] + conf_Matrix_SGDL2[1,1])/(np.sum(conf_Matrix_SGDL2)))"
      ],
      "metadata": {
        "colab": {
          "base_uri": "https://localhost:8080/",
          "height": 447
        },
        "id": "8a4IQIhyf37u",
        "outputId": "c063b2d5-105d-45fb-b161-28c65011720c"
      },
      "execution_count": 393,
      "outputs": [
        {
          "output_type": "stream",
          "name": "stdout",
          "text": [
            "              precision    recall  f1-score   support\n",
            "\n",
            "         0.0       0.63      0.62      0.63        98\n",
            "         1.0       0.78      0.79      0.78       168\n",
            "\n",
            "    accuracy                           0.73       266\n",
            "   macro avg       0.70      0.70      0.70       266\n",
            "weighted avg       0.72      0.73      0.73       266\n",
            "\n",
            "Accuracy :  0.7255639097744361\n"
          ]
        },
        {
          "output_type": "display_data",
          "data": {
            "text/plain": [
              "<Figure size 432x288 with 2 Axes>"
            ],
            "image/png": "[encoded data removed]"
          },
          "metadata": {
            "needs_background": "light"
          }
        }
      ]
    },
    {
      "cell_type": "markdown",
      "source": [
        "-----------------***********---------------------<br>\n",
        "Stochastic Gradient Descent with L1 Regualarization<br>\n",
        "-----------------***********---------------------<br>"
      ],
      "metadata": {
        "id": "Qrqd_SuE_72t"
      }
    },
    {
      "cell_type": "code",
      "source": [
        "SGD_ModelL1 = Logistic_Regressor(No_ofFeatures, 0.1, regularizer='l1')\n",
        "SGD_ModelL1.IntializeLamda(train_X, train_Y)\n",
        "SGD_ModelL1.Stochastic_GD(train_X, train_Y, test_X, test_Y, monitor='val_accuracy')"
      ],
      "metadata": {
        "colab": {
          "base_uri": "https://localhost:8080/"
        },
        "id": "O4JpnvuJ2Nr_",
        "outputId": "5bd24e0a-4437-4311-c0b5-ed0891bb7c42"
      },
      "execution_count": 394,
      "outputs": [
        {
          "output_type": "stream",
          "name": "stdout",
          "text": [
            "\n",
            "***********************************************\n",
            "\tPLEASE WAIT......Preforming KFold to tune Lamba for Regualarization.....\n",
            "Epoch 1:\n",
            "\n",
            "1062/1062 :   Traning Error : 0.94584798   ||   Validation Error : 0.83872197    Validation Accuracy : 0.7218  \n",
            "\n",
            "===========================================================================================================================================\n",
            "Epoch 2:\n",
            "\n",
            "1062/1062 :   Traning Error : 0.93956696   ||   Validation Error : 0.84178288    Validation Accuracy : 0.718  \n",
            "\n",
            "===========================================================================================================================================\n",
            "Epoch 3:\n",
            "\n",
            "1062/1062 :   Traning Error : 0.93890561   ||   Validation Error : 0.84402935    Validation Accuracy : 0.7218  \n",
            "\n",
            "===========================================================================================================================================\n",
            "Epoch 4:\n",
            "\n",
            "1062/1062 :   Traning Error : 0.9387481   ||   Validation Error : 0.84526334    Validation Accuracy : 0.718  \n",
            "\n",
            "===========================================================================================================================================\n",
            "Epoch 5:\n",
            "\n",
            "1062/1062 :   Traning Error : 0.93863609   ||   Validation Error : 0.84594939    Validation Accuracy : 0.7218  \n",
            "\n",
            "===========================================================================================================================================\n",
            "****************BEST WEIGHTS ON WHICH HIGHEST ACCURACY ACHIEVED - RESTORIED******************\n"
          ]
        },
        {
          "output_type": "execute_result",
          "data": {
            "text/plain": [
              "<__main__.Logistic_Regressor at 0x7f9b07f9aad0>"
            ]
          },
          "metadata": {},
          "execution_count": 394
        }
      ]
    },
    {
      "cell_type": "code",
      "source": [
        "validation_predictionL1 = SGD_ModelL1.Pridction(test_X, getLabel=True)\n",
        "print(f\"Accuracy on Testing Data : {SGD_ModelL1.Generic_AccuracyScore(test_Y, validation_predictionL1)}\")"
      ],
      "metadata": {
        "colab": {
          "base_uri": "https://localhost:8080/"
        },
        "id": "46ehYf0c7XQo",
        "outputId": "a2319e00-0b0b-47cd-c7ad-639737b60676"
      },
      "execution_count": 395,
      "outputs": [
        {
          "output_type": "stream",
          "name": "stdout",
          "text": [
            "Accuracy on Testing Data : 0.7218\n"
          ]
        }
      ]
    },
    {
      "cell_type": "code",
      "source": [
        "plt.plot(range(len(SGD_ModelL1.ErrorTrain)), SGD_ModelL1.ErrorTrain, c= 'blue', label = 'ErrorTrain')\n",
        "plt.plot(range(len(SGD_ModelL1.ErrorValidation)), SGD_ModelL1.ErrorValidation, c= 'red', label = 'ErrorValidation')\n",
        "plt.gca().xaxis.set_major_locator(MaxNLocator(integer=True))\n",
        "plt.xlabel('Epochs')\n",
        "plt.ylabel('Train Error, Validation Error')\n",
        "plt.title(\"ErrorTrain and ErrorValidation vs Epochs\")\n",
        "plt.legend()\n",
        "plt.show"
      ],
      "metadata": {
        "colab": {
          "base_uri": "https://localhost:8080/",
          "height": 313
        },
        "id": "C6qu0xfV7eiI",
        "outputId": "02784f6d-a4a6-4785-9e82-5ab2554e6f0f"
      },
      "execution_count": 396,
      "outputs": [
        {
          "output_type": "execute_result",
          "data": {
            "text/plain": [
              "<function matplotlib.pyplot.show>"
            ]
          },
          "metadata": {},
          "execution_count": 396
        },
        {
          "output_type": "display_data",
          "data": {
            "text/plain": [
              "<Figure size 432x288 with 1 Axes>"
            ],
            "image/png": "[encoded data removed]"
          },
          "metadata": {
            "needs_background": "light"
          }
        }
      ]
    },
    {
      "cell_type": "code",
      "source": [
        "print(classification_report(test_Y, validation_predictionL1))\n",
        "conf_Matrix_SGDL1 = confusion_matrix(test_Y, validation_predictionL1)\n",
        "sns.heatmap(conf_Matrix_SGDL1, annot=True)\n",
        "print(\"Accuracy : \", (conf_Matrix_SGDL1[0,0] + conf_Matrix_SGDL1[1,1])/(np.sum(conf_Matrix_SGDL1)))"
      ],
      "metadata": {
        "colab": {
          "base_uri": "https://localhost:8080/",
          "height": 447
        },
        "id": "RraWs7vz7g2K",
        "outputId": "25b031ee-b338-4f0b-b78c-80e2c0d948dd"
      },
      "execution_count": 397,
      "outputs": [
        {
          "output_type": "stream",
          "name": "stdout",
          "text": [
            "              precision    recall  f1-score   support\n",
            "\n",
            "         0.0       0.62      0.63      0.63        98\n",
            "         1.0       0.78      0.77      0.78       168\n",
            "\n",
            "    accuracy                           0.72       266\n",
            "   macro avg       0.70      0.70      0.70       266\n",
            "weighted avg       0.72      0.72      0.72       266\n",
            "\n",
            "Accuracy :  0.7218045112781954\n"
          ]
        },
        {
          "output_type": "display_data",
          "data": {
            "text/plain": [
              "<Figure size 432x288 with 2 Axes>"
            ],
            "image/png": "[encoded data removed]"
          },
          "metadata": {
            "needs_background": "light"
          }
        }
      ]
    },
    {
      "cell_type": "markdown",
      "source": [
        "-----------------***********---------------------<br>\n",
        "Comparing L1 and L2 on Stochastic Gradient Descent<br>\n",
        "-----------------***********---------------------<br>"
      ],
      "metadata": {
        "id": "H1_7pL57JSPQ"
      }
    },
    {
      "cell_type": "code",
      "source": [
        "plt.plot(range(len(SGD_ModelL1.ErrorValidation)), SGD_ModelL1.ErrorValidation, c= 'blue', label = 'l1 Error Validation')\n",
        "plt.plot(range(len(SGD_ModelL2.ErrorValidation)), SGD_ModelL2.ErrorValidation, c= 'red', label = 'l2 Error Validation')\n",
        "plt.gca().xaxis.set_major_locator(MaxNLocator(integer=True))\n",
        "plt.xlabel('Epochs')\n",
        "plt.ylabel('L1 val_error, L2 val_error')\n",
        "plt.title(\"L1 Validation Error vs L2 Validation Error\")\n",
        "plt.legend()\n",
        "plt.show"
      ],
      "metadata": {
        "colab": {
          "base_uri": "https://localhost:8080/",
          "height": 313
        },
        "id": "exRELVLGJUuo",
        "outputId": "e65038a8-38e8-4176-dc37-cb7be0f7afbf"
      },
      "execution_count": 408,
      "outputs": [
        {
          "output_type": "execute_result",
          "data": {
            "text/plain": [
              "<function matplotlib.pyplot.show>"
            ]
          },
          "metadata": {},
          "execution_count": 408
        },
        {
          "output_type": "display_data",
          "data": {
            "text/plain": [
              "<Figure size 432x288 with 1 Axes>"
            ],
            "image/png": "[encoded data removed]"
          },
          "metadata": {
            "needs_background": "light"
          }
        }
      ]
    },
    {
      "cell_type": "markdown",
      "source": [
        "In Stochastic our model has already acheived its best accuracy at the start, meaning it converged very quickly. After that the validation error start increasing for both regularization and suddenly the validation error with l1 increased more then l2. Also with l2 we acheieved the highest possible accuracy of 0.7256. Still there isn't very big difference in the perfomance both l1 and l2 regularization."
      ],
      "metadata": {
        "id": "Um3snvXrJowr"
      }
    },
    {
      "cell_type": "markdown",
      "source": [
        "#Mini-Batch Gradient Descent "
      ],
      "metadata": {
        "id": "6NmK7GgFbJg1"
      }
    },
    {
      "cell_type": "markdown",
      "source": [
        "-----------------***********---------------------<br>\n",
        "Mini Batch Gradient Descent with L2 Regualarization<br>\n",
        "-----------------***********---------------------<br>"
      ],
      "metadata": {
        "id": "k1HW4-Dc__cS"
      }
    },
    {
      "cell_type": "code",
      "source": [
        "MiniBatch_ModelL2 = Logistic_Regressor(No_ofFeatures, 0.1, regularizer='l2')\n",
        "MiniBatch_ModelL2.IntializeLamda(train_X, train_Y)\n",
        "MiniBatch_ModelL2.MiniBatch_GD(train_X, train_Y, test_X, test_Y, 32, monitor='val_accuracy')"
      ],
      "metadata": {
        "id": "eRpsePzobInl",
        "colab": {
          "base_uri": "https://localhost:8080/"
        },
        "outputId": "860552e4-6d01-44c2-cbc3-0d99c183dad4"
      },
      "execution_count": 398,
      "outputs": [
        {
          "output_type": "stream",
          "name": "stdout",
          "text": [
            "\n",
            "***********************************************\n",
            "\tPLEASE WAIT......Preforming KFold to tune Lamba for Regualarization.....\n",
            "Epoch 1:\n",
            "\n",
            "Traning Error : 0.85901052   ||   Validation Error : 0.85101361    Validation Accuracy : 0.7068  \n",
            "\n",
            "===========================================================================================================================================\n",
            "Epoch 2:\n",
            "\n",
            "Traning Error : 0.82816024   ||   Validation Error : 0.83023168    Validation Accuracy : 0.718  \n",
            "\n",
            "===========================================================================================================================================\n",
            "Epoch 3:\n",
            "\n",
            "Traning Error : 0.81902438   ||   Validation Error : 0.82221898    Validation Accuracy : 0.7068  \n",
            "\n",
            "===========================================================================================================================================\n",
            "Epoch 4:\n",
            "\n",
            "Traning Error : 0.81553157   ||   Validation Error : 0.81846811    Validation Accuracy : 0.7068  \n",
            "\n",
            "===========================================================================================================================================\n",
            "Epoch 5:\n",
            "\n",
            "Traning Error : 0.8138834   ||   Validation Error : 0.81638569    Validation Accuracy : 0.7068  \n",
            "\n",
            "===========================================================================================================================================\n",
            "Epoch 6:\n",
            "\n",
            "Traning Error : 0.81291593   ||   Validation Error : 0.81504476    Validation Accuracy : 0.7143  \n",
            "\n",
            "===========================================================================================================================================\n",
            "Epoch 7:\n",
            "\n",
            "Traning Error : 0.81223301   ||   Validation Error : 0.81407142    Validation Accuracy : 0.7143  \n",
            "\n",
            "===========================================================================================================================================\n",
            "Epoch 8:\n",
            "\n",
            "Traning Error : 0.81168714   ||   Validation Error : 0.81330003    Validation Accuracy : 0.7143  \n",
            "\n",
            "===========================================================================================================================================\n",
            "Epoch 9:\n",
            "\n",
            "Traning Error : 0.81121857   ||   Validation Error : 0.81265148    Validation Accuracy : 0.7143  \n",
            "\n",
            "===========================================================================================================================================\n",
            "Epoch 10:\n",
            "\n",
            "Traning Error : 0.81080087   ||   Validation Error : 0.81208548    Validation Accuracy : 0.7143  \n",
            "\n",
            "===========================================================================================================================================\n",
            "Epoch 11:\n",
            "\n",
            "Traning Error : 0.81042108   ||   Validation Error : 0.81158021    Validation Accuracy : 0.7143  \n",
            "\n",
            "===========================================================================================================================================\n",
            "Epoch 12:\n",
            "\n",
            "Traning Error : 0.81007207   ||   Validation Error : 0.81112305    Validation Accuracy : 0.7143  \n",
            "\n",
            "===========================================================================================================================================\n",
            "Epoch 13:\n",
            "\n",
            "Traning Error : 0.80974936   ||   Validation Error : 0.81070619    Validation Accuracy : 0.7143  \n",
            "\n",
            "===========================================================================================================================================\n",
            "Epoch 14:\n",
            "\n",
            "Traning Error : 0.80944983   ||   Validation Error : 0.81032436    Validation Accuracy : 0.718  \n",
            "\n",
            "===========================================================================================================================================\n",
            "Epoch 15:\n",
            "\n",
            "Traning Error : 0.80917105   ||   Validation Error : 0.80997375    Validation Accuracy : 0.718  \n",
            "\n",
            "===========================================================================================================================================\n",
            "Epoch 16:\n",
            "\n",
            "Traning Error : 0.80891101   ||   Validation Error : 0.80965139    Validation Accuracy : 0.718  \n",
            "\n",
            "===========================================================================================================================================\n",
            "Epoch 17:\n",
            "\n",
            "Traning Error : 0.80866801   ||   Validation Error : 0.80935483    Validation Accuracy : 0.718  \n",
            "\n",
            "===========================================================================================================================================\n",
            "Epoch 18:\n",
            "\n",
            "Traning Error : 0.80844055   ||   Validation Error : 0.80908195    Validation Accuracy : 0.7218  \n",
            "\n",
            "===========================================================================================================================================\n",
            "Epoch 19:\n",
            "\n",
            "Traning Error : 0.80822728   ||   Validation Error : 0.80883092    Validation Accuracy : 0.7105  \n",
            "\n",
            "===========================================================================================================================================\n",
            "Epoch 20:\n",
            "\n",
            "Traning Error : 0.80802701   ||   Validation Error : 0.80860006    Validation Accuracy : 0.7105  \n",
            "\n",
            "===========================================================================================================================================\n",
            "Epoch 21:\n",
            "\n",
            "Traning Error : 0.80783866   ||   Validation Error : 0.80838785    Validation Accuracy : 0.7105  \n",
            "\n",
            "===========================================================================================================================================\n",
            "Epoch 22:\n",
            "\n",
            "Traning Error : 0.80766124   ||   Validation Error : 0.80819292    Validation Accuracy : 0.7105  \n",
            "\n",
            "===========================================================================================================================================\n",
            "Epoch 23:\n",
            "\n",
            "Traning Error : 0.80749388   ||   Validation Error : 0.80801399    Validation Accuracy : 0.7068  \n",
            "\n",
            "===========================================================================================================================================\n",
            "Epoch 24:\n",
            "\n",
            "Traning Error : 0.80733577   ||   Validation Error : 0.8078499    Validation Accuracy : 0.7068  \n",
            "\n",
            "===========================================================================================================================================\n",
            "Epoch 25:\n",
            "\n",
            "Traning Error : 0.80718618   ||   Validation Error : 0.80769957    Validation Accuracy : 0.703  \n",
            "\n",
            "===========================================================================================================================================\n",
            "Epoch 26:\n",
            "\n",
            "Traning Error : 0.80704446   ||   Validation Error : 0.807562    Validation Accuracy : 0.703  \n",
            "\n",
            "===========================================================================================================================================\n",
            "Epoch 27:\n",
            "\n",
            "Traning Error : 0.80690999   ||   Validation Error : 0.80743627    Validation Accuracy : 0.703  \n",
            "\n",
            "===========================================================================================================================================\n",
            "Epoch 28:\n",
            "\n",
            "Traning Error : 0.80678223   ||   Validation Error : 0.80732154    Validation Accuracy : 0.703  \n",
            "\n",
            "===========================================================================================================================================\n",
            "Epoch 29:\n",
            "\n",
            "Traning Error : 0.80666068   ||   Validation Error : 0.807217    Validation Accuracy : 0.7068  \n",
            "\n",
            "===========================================================================================================================================\n",
            "Epoch 30:\n",
            "\n",
            "Traning Error : 0.80654489   ||   Validation Error : 0.80712194    Validation Accuracy : 0.7068  \n",
            "\n",
            "===========================================================================================================================================\n",
            "Epoch 31:\n",
            "\n",
            "Traning Error : 0.80643444   ||   Validation Error : 0.80703567    Validation Accuracy : 0.7068  \n",
            "\n",
            "===========================================================================================================================================\n",
            "Epoch 32:\n",
            "\n",
            "Traning Error : 0.80632895   ||   Validation Error : 0.80695758    Validation Accuracy : 0.7105  \n",
            "\n",
            "===========================================================================================================================================\n",
            "Epoch 33:\n",
            "\n",
            "Traning Error : 0.80622807   ||   Validation Error : 0.80688707    Validation Accuracy : 0.7105  \n",
            "\n",
            "===========================================================================================================================================\n",
            "Epoch 34:\n",
            "\n",
            "Traning Error : 0.8061315   ||   Validation Error : 0.8068236    Validation Accuracy : 0.7105  \n",
            "\n",
            "===========================================================================================================================================\n",
            "Epoch 35:\n",
            "\n",
            "Traning Error : 0.80603893   ||   Validation Error : 0.80676669    Validation Accuracy : 0.7105  \n",
            "\n",
            "===========================================================================================================================================\n",
            "Epoch 36:\n",
            "\n",
            "Traning Error : 0.8059501   ||   Validation Error : 0.80671586    Validation Accuracy : 0.7105  \n",
            "\n",
            "===========================================================================================================================================\n",
            "Epoch 37:\n",
            "\n",
            "Traning Error : 0.80586477   ||   Validation Error : 0.80667067    Validation Accuracy : 0.7105  \n",
            "\n",
            "===========================================================================================================================================\n",
            "****************BEST WEIGHTS ON WHICH HIGHEST ACCURACY ACHIEVED - RESTORIED******************\n"
          ]
        },
        {
          "output_type": "execute_result",
          "data": {
            "text/plain": [
              "<__main__.Logistic_Regressor at 0x7f9b080383d0>"
            ]
          },
          "metadata": {},
          "execution_count": 398
        }
      ]
    },
    {
      "cell_type": "code",
      "source": [
        "validation_prediction_MBatchL2 = MiniBatch_ModelL2.Pridction(test_X, getLabel=True)\n",
        "print(f\"Accuracy on Testing Data : {MiniBatch_ModelL2.Generic_AccuracyScore(test_Y, validation_prediction_MBatchL2)}\")"
      ],
      "metadata": {
        "colab": {
          "base_uri": "https://localhost:8080/"
        },
        "id": "t5HXPj4uSF7a",
        "outputId": "be3abb2e-0bd0-4695-f710-95ac442ad508"
      },
      "execution_count": 399,
      "outputs": [
        {
          "output_type": "stream",
          "name": "stdout",
          "text": [
            "Accuracy on Testing Data : 0.7218\n"
          ]
        }
      ]
    },
    {
      "cell_type": "code",
      "source": [
        "plt.plot(range(len(MiniBatch_ModelL2.ErrorTrain)), MiniBatch_ModelL2.ErrorTrain, c= 'blue', label = 'ErrorTrain')\n",
        "plt.plot(range(len(MiniBatch_ModelL2.ErrorValidation)), MiniBatch_ModelL2.ErrorValidation, c= 'red', label = 'ErrorValidation')\n",
        "plt.xlabel('Epochs')\n",
        "plt.ylabel('Train Error, Validation Error')\n",
        "plt.title(\"ErrorTrain and ErrorValidation vs Epochs\")\n",
        "plt.legend()\n",
        "plt.show"
      ],
      "metadata": {
        "colab": {
          "base_uri": "https://localhost:8080/",
          "height": 313
        },
        "id": "IAPeLA39SySF",
        "outputId": "3f03ee18-a4ed-4127-abb6-e4ddde0eb199"
      },
      "execution_count": 400,
      "outputs": [
        {
          "output_type": "execute_result",
          "data": {
            "text/plain": [
              "<function matplotlib.pyplot.show>"
            ]
          },
          "metadata": {},
          "execution_count": 400
        },
        {
          "output_type": "display_data",
          "data": {
            "text/plain": [
              "<Figure size 432x288 with 1 Axes>"
            ],
            "image/png": "[encoded data removed]"
          },
          "metadata": {
            "needs_background": "light"
          }
        }
      ]
    },
    {
      "cell_type": "code",
      "source": [
        "print(classification_report(test_Y, validation_prediction_MBatchL2))\n",
        "conf_Matrix_MBGDL2 = confusion_matrix(test_Y, validation_prediction_MBatchL2)\n",
        "sns.heatmap(conf_Matrix_MBGDL2, annot=True)\n",
        "print(\"Accuracy : \", (conf_Matrix_MBGDL2[0,0] + conf_Matrix_MBGDL2[1,1])/(np.sum(conf_Matrix_MBGDL2)))"
      ],
      "metadata": {
        "colab": {
          "base_uri": "https://localhost:8080/",
          "height": 447
        },
        "id": "JldmFU2ibJeq",
        "outputId": "6640e9a6-5a89-408f-e3ed-b4baecb784b8"
      },
      "execution_count": 401,
      "outputs": [
        {
          "output_type": "stream",
          "name": "stdout",
          "text": [
            "              precision    recall  f1-score   support\n",
            "\n",
            "         0.0       0.65      0.54      0.59        98\n",
            "         1.0       0.76      0.83      0.79       168\n",
            "\n",
            "    accuracy                           0.72       266\n",
            "   macro avg       0.70      0.68      0.69       266\n",
            "weighted avg       0.72      0.72      0.72       266\n",
            "\n",
            "Accuracy :  0.7218045112781954\n"
          ]
        },
        {
          "output_type": "display_data",
          "data": {
            "text/plain": [
              "<Figure size 432x288 with 2 Axes>"
            ],
            "image/png": "[encoded data removed]"
          },
          "metadata": {
            "needs_background": "light"
          }
        }
      ]
    },
    {
      "cell_type": "markdown",
      "source": [
        "-----------------***********---------------------<br>\n",
        "Mini Batch Gradient Descent with L1 Regualarization<br>\n",
        "-----------------***********---------------------<br>"
      ],
      "metadata": {
        "id": "bzOYrk5vAFlb"
      }
    },
    {
      "cell_type": "code",
      "source": [
        "MiniBatch_ModelL1 = Logistic_Regressor(No_ofFeatures, 0.1, regularizer='l1')\n",
        "MiniBatch_ModelL1.IntializeLamda(train_X, train_Y)\n",
        "MiniBatch_ModelL1.MiniBatch_GD(train_X, train_Y, test_X, test_Y, 32, monitor='val_accuracy')"
      ],
      "metadata": {
        "colab": {
          "base_uri": "https://localhost:8080/"
        },
        "id": "VsHI1pMA9b5-",
        "outputId": "edc1abdf-3d5a-4303-83a5-72baef6604d8"
      },
      "execution_count": 402,
      "outputs": [
        {
          "output_type": "stream",
          "name": "stdout",
          "text": [
            "\n",
            "***********************************************\n",
            "\tPLEASE WAIT......Preforming KFold to tune Lamba for Regualarization.....\n",
            "Epoch 1:\n",
            "\n",
            "Traning Error : 0.86087178   ||   Validation Error : 0.85226284    Validation Accuracy : 0.7143  \n",
            "\n",
            "===========================================================================================================================================\n",
            "Epoch 2:\n",
            "\n",
            "Traning Error : 0.82842254   ||   Validation Error : 0.82950339    Validation Accuracy : 0.7105  \n",
            "\n",
            "===========================================================================================================================================\n",
            "Epoch 3:\n",
            "\n",
            "Traning Error : 0.81860039   ||   Validation Error : 0.82109262    Validation Accuracy : 0.7068  \n",
            "\n",
            "===========================================================================================================================================\n",
            "Epoch 4:\n",
            "\n",
            "Traning Error : 0.81497439   ||   Validation Error : 0.8173687    Validation Accuracy : 0.7068  \n",
            "\n",
            "===========================================================================================================================================\n",
            "Epoch 5:\n",
            "\n",
            "Traning Error : 0.81333132   ||   Validation Error : 0.81542067    Validation Accuracy : 0.7105  \n",
            "\n",
            "===========================================================================================================================================\n",
            "Epoch 6:\n",
            "\n",
            "Traning Error : 0.81240206   ||   Validation Error : 0.8142255    Validation Accuracy : 0.7143  \n",
            "\n",
            "===========================================================================================================================================\n",
            "Epoch 7:\n",
            "\n",
            "Traning Error : 0.81176235   ||   Validation Error : 0.81338238    Validation Accuracy : 0.7143  \n",
            "\n",
            "===========================================================================================================================================\n",
            "Epoch 8:\n",
            "\n",
            "Traning Error : 0.81125748   ||   Validation Error : 0.81272069    Validation Accuracy : 0.7143  \n",
            "\n",
            "===========================================================================================================================================\n",
            "Epoch 9:\n",
            "\n",
            "Traning Error : 0.81082617   ||   Validation Error : 0.81216267    Validation Accuracy : 0.7143  \n",
            "\n",
            "===========================================================================================================================================\n",
            "Epoch 10:\n",
            "\n",
            "Traning Error : 0.81044187   ||   Validation Error : 0.81167113    Validation Accuracy : 0.7143  \n",
            "\n",
            "===========================================================================================================================================\n",
            "Epoch 11:\n",
            "\n",
            "Traning Error : 0.81009216   ||   Validation Error : 0.81122714    Validation Accuracy : 0.7143  \n",
            "\n",
            "===========================================================================================================================================\n",
            "Epoch 12:\n",
            "\n",
            "Traning Error : 0.80977029   ||   Validation Error : 0.81082072    Validation Accuracy : 0.7143  \n",
            "\n",
            "===========================================================================================================================================\n",
            "Epoch 13:\n",
            "\n",
            "Traning Error : 0.80947215   ||   Validation Error : 0.81044609    Validation Accuracy : 0.718  \n",
            "\n",
            "===========================================================================================================================================\n",
            "Epoch 14:\n",
            "\n",
            "Traning Error : 0.80919487   ||   Validation Error : 0.81009996    Validation Accuracy : 0.718  \n",
            "\n",
            "===========================================================================================================================================\n",
            "Epoch 15:\n",
            "\n",
            "Traning Error : 0.80893643   ||   Validation Error : 0.80977958    Validation Accuracy : 0.718  \n",
            "\n",
            "===========================================================================================================================================\n",
            "Epoch 16:\n",
            "\n",
            "Traning Error : 0.80869491   ||   Validation Error : 0.80948329    Validation Accuracy : 0.718  \n",
            "\n",
            "===========================================================================================================================================\n",
            "Epoch 17:\n",
            "\n",
            "Traning Error : 0.80846891   ||   Validation Error : 0.80920926    Validation Accuracy : 0.7143  \n",
            "\n",
            "===========================================================================================================================================\n",
            "Epoch 18:\n",
            "\n",
            "Traning Error : 0.80825713   ||   Validation Error : 0.80895616    Validation Accuracy : 0.7143  \n",
            "\n",
            "===========================================================================================================================================\n",
            "Epoch 19:\n",
            "\n",
            "Traning Error : 0.80805834   ||   Validation Error : 0.80872295    Validation Accuracy : 0.7143  \n",
            "\n",
            "===========================================================================================================================================\n",
            "Epoch 20:\n",
            "\n",
            "Traning Error : 0.80787146   ||   Validation Error : 0.80850791    Validation Accuracy : 0.7105  \n",
            "\n",
            "===========================================================================================================================================\n",
            "Epoch 21:\n",
            "\n",
            "Traning Error : 0.80769543   ||   Validation Error : 0.80831008    Validation Accuracy : 0.7105  \n",
            "\n",
            "===========================================================================================================================================\n",
            "Epoch 22:\n",
            "\n",
            "Traning Error : 0.80752944   ||   Validation Error : 0.80812808    Validation Accuracy : 0.7105  \n",
            "\n",
            "===========================================================================================================================================\n",
            "Epoch 23:\n",
            "\n",
            "Traning Error : 0.80737258   ||   Validation Error : 0.80796079    Validation Accuracy : 0.7068  \n",
            "\n",
            "===========================================================================================================================================\n",
            "Epoch 24:\n",
            "\n",
            "Traning Error : 0.80722418   ||   Validation Error : 0.80780715    Validation Accuracy : 0.7068  \n",
            "\n",
            "===========================================================================================================================================\n",
            "Epoch 25:\n",
            "\n",
            "Traning Error : 0.80708359   ||   Validation Error : 0.80766618    Validation Accuracy : 0.703  \n",
            "\n",
            "===========================================================================================================================================\n",
            "Epoch 26:\n",
            "\n",
            "Traning Error : 0.80695021   ||   Validation Error : 0.80753698    Validation Accuracy : 0.703  \n",
            "\n",
            "===========================================================================================================================================\n",
            "Epoch 27:\n",
            "\n",
            "Traning Error : 0.80682349   ||   Validation Error : 0.80741875    Validation Accuracy : 0.703  \n",
            "\n",
            "===========================================================================================================================================\n",
            "Epoch 28:\n",
            "\n",
            "Traning Error : 0.80670294   ||   Validation Error : 0.80731073    Validation Accuracy : 0.703  \n",
            "\n",
            "===========================================================================================================================================\n",
            "Epoch 29:\n",
            "\n",
            "Traning Error : 0.80658813   ||   Validation Error : 0.80721213    Validation Accuracy : 0.7068  \n",
            "\n",
            "===========================================================================================================================================\n",
            "Epoch 30:\n",
            "\n",
            "Traning Error : 0.80647861   ||   Validation Error : 0.80712241    Validation Accuracy : 0.7068  \n",
            "\n",
            "===========================================================================================================================================\n",
            "Epoch 31:\n",
            "\n",
            "Traning Error : 0.80637402   ||   Validation Error : 0.80704093    Validation Accuracy : 0.7105  \n",
            "\n",
            "===========================================================================================================================================\n",
            "Epoch 32:\n",
            "\n",
            "Traning Error : 0.80627399   ||   Validation Error : 0.80696705    Validation Accuracy : 0.7105  \n",
            "\n",
            "===========================================================================================================================================\n",
            "****************BEST WEIGHTS ON WHICH HIGHEST ACCURACY ACHIEVED - RESTORIED******************\n"
          ]
        },
        {
          "output_type": "execute_result",
          "data": {
            "text/plain": [
              "<__main__.Logistic_Regressor at 0x7f9b0d8dc110>"
            ]
          },
          "metadata": {},
          "execution_count": 402
        }
      ]
    },
    {
      "cell_type": "code",
      "source": [
        "validation_prediction_MBatchL1 = MiniBatch_ModelL1.Pridction(test_X, getLabel=True)\n",
        "print(f\"Accuracy on Testing Data : {MiniBatch_ModelL1.Generic_AccuracyScore(test_Y, validation_prediction_MBatchL1)}\")"
      ],
      "metadata": {
        "colab": {
          "base_uri": "https://localhost:8080/"
        },
        "id": "w592Bu409gPl",
        "outputId": "4a058fda-930a-4f6e-d54a-45db360e1051"
      },
      "execution_count": 403,
      "outputs": [
        {
          "output_type": "stream",
          "name": "stdout",
          "text": [
            "Accuracy on Testing Data : 0.718\n"
          ]
        }
      ]
    },
    {
      "cell_type": "code",
      "source": [
        "plt.plot(range(len(MiniBatch_ModelL1.ErrorTrain)), MiniBatch_ModelL1.ErrorTrain, c= 'blue', label = 'ErrorTrain')\n",
        "plt.plot(range(len(MiniBatch_ModelL1.ErrorValidation)), MiniBatch_ModelL1.ErrorValidation, c= 'red', label = 'ErrorValidation')\n",
        "plt.xlabel('Epochs')\n",
        "plt.ylabel('Train Error, Validation Error')\n",
        "plt.title(\"ErrorTrain and ErrorValidation vs Epochs\")\n",
        "plt.legend()\n",
        "plt.show"
      ],
      "metadata": {
        "colab": {
          "base_uri": "https://localhost:8080/",
          "height": 313
        },
        "id": "aUM9NAjZ9kPt",
        "outputId": "a18db383-ee41-4959-ab0c-e06e8c4e15cb"
      },
      "execution_count": 404,
      "outputs": [
        {
          "output_type": "execute_result",
          "data": {
            "text/plain": [
              "<function matplotlib.pyplot.show>"
            ]
          },
          "metadata": {},
          "execution_count": 404
        },
        {
          "output_type": "display_data",
          "data": {
            "text/plain": [
              "<Figure size 432x288 with 1 Axes>"
            ],
            "image/png": "[encoded data removed]"
          },
          "metadata": {
            "needs_background": "light"
          }
        }
      ]
    },
    {
      "cell_type": "code",
      "source": [
        "print(classification_report(test_Y, validation_prediction_MBatchL1))\n",
        "conf_Matrix_MBGDL1 = confusion_matrix(test_Y, validation_prediction_MBatchL1)\n",
        "sns.heatmap(conf_Matrix_MBGDL1, annot=True)\n",
        "print(\"Accuracy : \", (conf_Matrix_MBGDL1[0,0] + conf_Matrix_MBGDL1[1,1])/(np.sum(conf_Matrix_MBGDL1)))"
      ],
      "metadata": {
        "colab": {
          "base_uri": "https://localhost:8080/",
          "height": 447
        },
        "id": "FgWQMfLt9k_u",
        "outputId": "28670b3c-780f-4a2a-de65-86d8237510c6"
      },
      "execution_count": 405,
      "outputs": [
        {
          "output_type": "stream",
          "name": "stdout",
          "text": [
            "              precision    recall  f1-score   support\n",
            "\n",
            "         0.0       0.64      0.54      0.59        98\n",
            "         1.0       0.75      0.82      0.79       168\n",
            "\n",
            "    accuracy                           0.72       266\n",
            "   macro avg       0.70      0.68      0.69       266\n",
            "weighted avg       0.71      0.72      0.71       266\n",
            "\n",
            "Accuracy :  0.7180451127819549\n"
          ]
        },
        {
          "output_type": "display_data",
          "data": {
            "text/plain": [
              "<Figure size 432x288 with 2 Axes>"
            ],
            "image/png": "[encoded data removed]"
          },
          "metadata": {
            "needs_background": "light"
          }
        }
      ]
    },
    {
      "cell_type": "markdown",
      "source": [
        "-----------------***********---------------------<br>\n",
        "Comparing L1 and L2 on Mini Batch Gradient Descent<br>\n",
        "-----------------***********---------------------<br>"
      ],
      "metadata": {
        "id": "GlceCkNkKZC7"
      }
    },
    {
      "cell_type": "code",
      "source": [
        "plt.plot(range(len(MiniBatch_ModelL1.ErrorValidation)), MiniBatch_ModelL1.ErrorValidation, c= 'blue', label = 'l1 Error Validation')\n",
        "plt.plot(range(len(MiniBatch_ModelL2.ErrorValidation)), MiniBatch_ModelL2.ErrorValidation, c= 'red', label = 'l2 Error Validation')\n",
        "plt.gca().xaxis.set_major_locator(MaxNLocator(integer=True))\n",
        "plt.xlabel('Epochs')\n",
        "plt.ylabel('L1 val_error, L2 val_error')\n",
        "plt.title(\"L1 Validation Error vs L2 Validation Error\")\n",
        "plt.legend()\n",
        "plt.show"
      ],
      "metadata": {
        "colab": {
          "base_uri": "https://localhost:8080/",
          "height": 313
        },
        "id": "IvsX73k0Keg0",
        "outputId": "8f9bde3f-7380-4b62-a5f4-88f043b66abe"
      },
      "execution_count": 410,
      "outputs": [
        {
          "output_type": "execute_result",
          "data": {
            "text/plain": [
              "<function matplotlib.pyplot.show>"
            ]
          },
          "metadata": {},
          "execution_count": 410
        },
        {
          "output_type": "display_data",
          "data": {
            "text/plain": [
              "<Figure size 432x288 with 1 Axes>"
            ],
            "image/png": "[encoded data removed]"
          },
          "metadata": {
            "needs_background": "light"
          }
        }
      ]
    },
    {
      "cell_type": "markdown",
      "source": [
        "In Mini Batch, again there isn't any difference in the perfomance of l1 and l2 regualzation on our prediction. Tho the validation error on l1 slighty lower then l2."
      ],
      "metadata": {
        "id": "jqWaOhacKtRZ"
      }
    },
    {
      "cell_type": "markdown",
      "source": [
        "#Review on All Three Methods"
      ],
      "metadata": {
        "id": "5XFGpZOig2te"
      }
    },
    {
      "cell_type": "markdown",
      "source": [
        "In Batch we had to do alot of epochs and at the end accuracy isn't the best when compared to other models.<br>\n",
        "\n",
        "In Stochastic instead of finding derivate on all instance at once we calculate derivate on one instance and update our weights based on that. This approach saved us from doing so many epochs and got us the best possible result in less then 10 epochs.<br>\n",
        "\n",
        "In Mini-Batch, we combined the approach of both batch and stochastic, which resulted in us having to do less epochs as well as improved accuracy.\n",
        "\n",
        "Overall Stochastic Gradient Descent preformed the best. The highest accuracy with good f1 score is achieved using Stochastic GD."
      ],
      "metadata": {
        "id": "EOTg9zgUg4-x"
      }
    }
  ],
  "metadata": {
    "colab": {
      "collapsed_sections": [
        "w6yEwiBmQkYw",
        "HLh7r_jWIdTy",
        "xzz6s7SHIheq",
        "6NmK7GgFbJg1"
      ],
      "name": "Logestic Regressor For Binary Classification.ipynb",
      "toc_visible": true,
      "provenance": []
    },
    "kernelspec": {
      "display_name": "Python 3",
      "name": "python3"
    },
    "language_info": {
      "name": "python"
    }
  },
  "nbformat": 4,
  "nbformat_minor": 0
}