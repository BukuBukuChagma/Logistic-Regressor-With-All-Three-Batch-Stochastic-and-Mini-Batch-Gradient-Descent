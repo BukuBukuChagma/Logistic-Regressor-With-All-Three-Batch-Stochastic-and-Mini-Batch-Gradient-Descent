{
  "cells": [
    {
      "cell_type": "markdown",
      "metadata": {
        "id": "3WRfPKZV3dei"
      },
      "source": [
        "Name: Farhan Shoukat<br>\n",
        "Roll No: Fa20/BSAI/048<br>\n",
        "Lab: 9<br>\n",
        "Group Memeber : Solo<br>"
      ]
    },
    {
      "cell_type": "code",
      "execution_count": 18,
      "metadata": {
        "id": "CZM5_zIK3c4b"
      },
      "outputs": [],
      "source": [
        "from sklearn.model_selection import train_test_split\n",
        "from sklearn.metrics import classification_report \n",
        "from sklearn.metrics import confusion_matrix\n",
        "from sklearn.metrics import accuracy_score\n",
        "import matplotlib.pyplot as plt\n",
        "import seaborn as sns\n",
        "import pandas as pd\n",
        "import numpy as np\n",
        "import random"
      ]
    },
    {
      "cell_type": "markdown",
      "metadata": {
        "id": "w6yEwiBmQkYw"
      },
      "source": [
        "#Data Cleaning"
      ]
    },
    {
      "cell_type": "code",
      "execution_count": 19,
      "metadata": {
        "colab": {
          "base_uri": "https://localhost:8080/",
          "height": 424
        },
        "id": "-wGya8Hm5ix7",
        "outputId": "b08ef22b-df06-444a-cdc4-aa024f42548e"
      },
      "outputs": [
        {
          "output_type": "execute_result",
          "data": {
            "text/plain": [
              "      X0  GP   MIN  PTS  FGM  FGA   FG%  3P Made  3PA   3P%  ...  FTA   FT%  \\\n",
              "0      1  36  27.4  7.4  2.6  7.6  34.7      0.5  2.1  25.0  ...  2.3  69.9   \n",
              "1      1  35  26.9  7.2  2.0  6.7  29.6      0.7  2.8  23.5  ...  3.4  76.5   \n",
              "2      1  74  15.3  5.2  2.0  4.7  42.2      0.4  1.7  24.4  ...  1.3  67.0   \n",
              "3      1  58  11.6  5.7  2.3  5.5  42.6      0.1  0.5  22.6  ...  1.3  68.9   \n",
              "4      1  48  11.5  4.5  1.6  3.0  52.4      0.0  0.1   0.0  ...  1.9  67.4   \n",
              "...   ..  ..   ...  ...  ...  ...   ...      ...  ...   ...  ...  ...   ...   \n",
              "1335   1  80  15.8  4.3  1.6  3.6  43.3      0.0  0.2  14.3  ...  1.5  79.2   \n",
              "1336   1  68  12.6  3.9  1.5  4.1  35.8      0.1  0.7  16.7  ...  1.0  79.4   \n",
              "1337   1  43  12.1  5.4  2.2  3.9  55.0      0.0  0.0   0.0  ...  1.6  64.3   \n",
              "1338   1  52  12.0  4.5  1.7  3.8  43.9      0.0  0.2  10.0  ...  1.8  62.5   \n",
              "1339   1  47  11.7  4.4  1.6  4.4  36.9      0.4  1.3  33.3  ...  1.0  67.3   \n",
              "\n",
              "      OREB  DREB  REB  AST  STL  BLK  TOV  TARGET_5Yrs  \n",
              "0      0.7   3.4  4.1  1.9  0.4  0.4  1.3          0.0  \n",
              "1      0.5   2.0  2.4  3.7  1.1  0.5  1.6          0.0  \n",
              "2      0.5   1.7  2.2  1.0  0.5  0.3  1.0          0.0  \n",
              "3      1.0   0.9  1.9  0.8  0.6  0.1  1.0          1.0  \n",
              "4      1.0   1.5  2.5  0.3  0.3  0.4  0.8          1.0  \n",
              "...    ...   ...  ...  ...  ...  ...  ...          ...  \n",
              "1335   0.4   0.8  1.2  2.5  0.6  0.2  0.8          0.0  \n",
              "1336   0.4   1.1  1.5  2.3  0.8  0.0  1.3          1.0  \n",
              "1337   1.5   2.3  3.8  0.3  0.3  0.4  0.9          0.0  \n",
              "1338   0.2   0.4  0.7  2.2  0.4  0.1  0.8          1.0  \n",
              "1339   0.2   0.7  0.9  1.4  0.7  0.1  0.9          1.0  \n",
              "\n",
              "[1329 rows x 21 columns]"
            ],
            "text/html": [
              "\n",
              "  <div id=\"df-6dff43ae-cab2-431c-8ed6-368f20296ad7\">\n",
              "    <div class=\"colab-df-container\">\n",
              "      <div>\n",
              "<style scoped>\n",
              "    .dataframe tbody tr th:only-of-type {\n",
              "        vertical-align: middle;\n",
              "    }\n",
              "\n",
              "    .dataframe tbody tr th {\n",
              "        vertical-align: top;\n",
              "    }\n",
              "\n",
              "    .dataframe thead th {\n",
              "        text-align: right;\n",
              "    }\n",
              "</style>\n",
              "<table border=\"1\" class=\"dataframe\">\n",
              "  <thead>\n",
              "    <tr style=\"text-align: right;\">\n",
              "      <th></th>\n",
              "      <th>X0</th>\n",
              "      <th>GP</th>\n",
              "      <th>MIN</th>\n",
              "      <th>PTS</th>\n",
              "      <th>FGM</th>\n",
              "      <th>FGA</th>\n",
              "      <th>FG%</th>\n",
              "      <th>3P Made</th>\n",
              "      <th>3PA</th>\n",
              "      <th>3P%</th>\n",
              "      <th>...</th>\n",
              "      <th>FTA</th>\n",
              "      <th>FT%</th>\n",
              "      <th>OREB</th>\n",
              "      <th>DREB</th>\n",
              "      <th>REB</th>\n",
              "      <th>AST</th>\n",
              "      <th>STL</th>\n",
              "      <th>BLK</th>\n",
              "      <th>TOV</th>\n",
              "      <th>TARGET_5Yrs</th>\n",
              "    </tr>\n",
              "  </thead>\n",
              "  <tbody>\n",
              "    <tr>\n",
              "      <th>0</th>\n",
              "      <td>1</td>\n",
              "      <td>36</td>\n",
              "      <td>27.4</td>\n",
              "      <td>7.4</td>\n",
              "      <td>2.6</td>\n",
              "      <td>7.6</td>\n",
              "      <td>34.7</td>\n",
              "      <td>0.5</td>\n",
              "      <td>2.1</td>\n",
              "      <td>25.0</td>\n",
              "      <td>...</td>\n",
              "      <td>2.3</td>\n",
              "      <td>69.9</td>\n",
              "      <td>0.7</td>\n",
              "      <td>3.4</td>\n",
              "      <td>4.1</td>\n",
              "      <td>1.9</td>\n",
              "      <td>0.4</td>\n",
              "      <td>0.4</td>\n",
              "      <td>1.3</td>\n",
              "      <td>0.0</td>\n",
              "    </tr>\n",
              "    <tr>\n",
              "      <th>1</th>\n",
              "      <td>1</td>\n",
              "      <td>35</td>\n",
              "      <td>26.9</td>\n",
              "      <td>7.2</td>\n",
              "      <td>2.0</td>\n",
              "      <td>6.7</td>\n",
              "      <td>29.6</td>\n",
              "      <td>0.7</td>\n",
              "      <td>2.8</td>\n",
              "      <td>23.5</td>\n",
              "      <td>...</td>\n",
              "      <td>3.4</td>\n",
              "      <td>76.5</td>\n",
              "      <td>0.5</td>\n",
              "      <td>2.0</td>\n",
              "      <td>2.4</td>\n",
              "      <td>3.7</td>\n",
              "      <td>1.1</td>\n",
              "      <td>0.5</td>\n",
              "      <td>1.6</td>\n",
              "      <td>0.0</td>\n",
              "    </tr>\n",
              "    <tr>\n",
              "      <th>2</th>\n",
              "      <td>1</td>\n",
              "      <td>74</td>\n",
              "      <td>15.3</td>\n",
              "      <td>5.2</td>\n",
              "      <td>2.0</td>\n",
              "      <td>4.7</td>\n",
              "      <td>42.2</td>\n",
              "      <td>0.4</td>\n",
              "      <td>1.7</td>\n",
              "      <td>24.4</td>\n",
              "      <td>...</td>\n",
              "      <td>1.3</td>\n",
              "      <td>67.0</td>\n",
              "      <td>0.5</td>\n",
              "      <td>1.7</td>\n",
              "      <td>2.2</td>\n",
              "      <td>1.0</td>\n",
              "      <td>0.5</td>\n",
              "      <td>0.3</td>\n",
              "      <td>1.0</td>\n",
              "      <td>0.0</td>\n",
              "    </tr>\n",
              "    <tr>\n",
              "      <th>3</th>\n",
              "      <td>1</td>\n",
              "      <td>58</td>\n",
              "      <td>11.6</td>\n",
              "      <td>5.7</td>\n",
              "      <td>2.3</td>\n",
              "      <td>5.5</td>\n",
              "      <td>42.6</td>\n",
              "      <td>0.1</td>\n",
              "      <td>0.5</td>\n",
              "      <td>22.6</td>\n",
              "      <td>...</td>\n",
              "      <td>1.3</td>\n",
              "      <td>68.9</td>\n",
              "      <td>1.0</td>\n",
              "      <td>0.9</td>\n",
              "      <td>1.9</td>\n",
              "      <td>0.8</td>\n",
              "      <td>0.6</td>\n",
              "      <td>0.1</td>\n",
              "      <td>1.0</td>\n",
              "      <td>1.0</td>\n",
              "    </tr>\n",
              "    <tr>\n",
              "      <th>4</th>\n",
              "      <td>1</td>\n",
              "      <td>48</td>\n",
              "      <td>11.5</td>\n",
              "      <td>4.5</td>\n",
              "      <td>1.6</td>\n",
              "      <td>3.0</td>\n",
              "      <td>52.4</td>\n",
              "      <td>0.0</td>\n",
              "      <td>0.1</td>\n",
              "      <td>0.0</td>\n",
              "      <td>...</td>\n",
              "      <td>1.9</td>\n",
              "      <td>67.4</td>\n",
              "      <td>1.0</td>\n",
              "      <td>1.5</td>\n",
              "      <td>2.5</td>\n",
              "      <td>0.3</td>\n",
              "      <td>0.3</td>\n",
              "      <td>0.4</td>\n",
              "      <td>0.8</td>\n",
              "      <td>1.0</td>\n",
              "    </tr>\n",
              "    <tr>\n",
              "      <th>...</th>\n",
              "      <td>...</td>\n",
              "      <td>...</td>\n",
              "      <td>...</td>\n",
              "      <td>...</td>\n",
              "      <td>...</td>\n",
              "      <td>...</td>\n",
              "      <td>...</td>\n",
              "      <td>...</td>\n",
              "      <td>...</td>\n",
              "      <td>...</td>\n",
              "      <td>...</td>\n",
              "      <td>...</td>\n",
              "      <td>...</td>\n",
              "      <td>...</td>\n",
              "      <td>...</td>\n",
              "      <td>...</td>\n",
              "      <td>...</td>\n",
              "      <td>...</td>\n",
              "      <td>...</td>\n",
              "      <td>...</td>\n",
              "      <td>...</td>\n",
              "    </tr>\n",
              "    <tr>\n",
              "      <th>1335</th>\n",
              "      <td>1</td>\n",
              "      <td>80</td>\n",
              "      <td>15.8</td>\n",
              "      <td>4.3</td>\n",
              "      <td>1.6</td>\n",
              "      <td>3.6</td>\n",
              "      <td>43.3</td>\n",
              "      <td>0.0</td>\n",
              "      <td>0.2</td>\n",
              "      <td>14.3</td>\n",
              "      <td>...</td>\n",
              "      <td>1.5</td>\n",
              "      <td>79.2</td>\n",
              "      <td>0.4</td>\n",
              "      <td>0.8</td>\n",
              "      <td>1.2</td>\n",
              "      <td>2.5</td>\n",
              "      <td>0.6</td>\n",
              "      <td>0.2</td>\n",
              "      <td>0.8</td>\n",
              "      <td>0.0</td>\n",
              "    </tr>\n",
              "    <tr>\n",
              "      <th>1336</th>\n",
              "      <td>1</td>\n",
              "      <td>68</td>\n",
              "      <td>12.6</td>\n",
              "      <td>3.9</td>\n",
              "      <td>1.5</td>\n",
              "      <td>4.1</td>\n",
              "      <td>35.8</td>\n",
              "      <td>0.1</td>\n",
              "      <td>0.7</td>\n",
              "      <td>16.7</td>\n",
              "      <td>...</td>\n",
              "      <td>1.0</td>\n",
              "      <td>79.4</td>\n",
              "      <td>0.4</td>\n",
              "      <td>1.1</td>\n",
              "      <td>1.5</td>\n",
              "      <td>2.3</td>\n",
              "      <td>0.8</td>\n",
              "      <td>0.0</td>\n",
              "      <td>1.3</td>\n",
              "      <td>1.0</td>\n",
              "    </tr>\n",
              "    <tr>\n",
              "      <th>1337</th>\n",
              "      <td>1</td>\n",
              "      <td>43</td>\n",
              "      <td>12.1</td>\n",
              "      <td>5.4</td>\n",
              "      <td>2.2</td>\n",
              "      <td>3.9</td>\n",
              "      <td>55.0</td>\n",
              "      <td>0.0</td>\n",
              "      <td>0.0</td>\n",
              "      <td>0.0</td>\n",
              "      <td>...</td>\n",
              "      <td>1.6</td>\n",
              "      <td>64.3</td>\n",
              "      <td>1.5</td>\n",
              "      <td>2.3</td>\n",
              "      <td>3.8</td>\n",
              "      <td>0.3</td>\n",
              "      <td>0.3</td>\n",
              "      <td>0.4</td>\n",
              "      <td>0.9</td>\n",
              "      <td>0.0</td>\n",
              "    </tr>\n",
              "    <tr>\n",
              "      <th>1338</th>\n",
              "      <td>1</td>\n",
              "      <td>52</td>\n",
              "      <td>12.0</td>\n",
              "      <td>4.5</td>\n",
              "      <td>1.7</td>\n",
              "      <td>3.8</td>\n",
              "      <td>43.9</td>\n",
              "      <td>0.0</td>\n",
              "      <td>0.2</td>\n",
              "      <td>10.0</td>\n",
              "      <td>...</td>\n",
              "      <td>1.8</td>\n",
              "      <td>62.5</td>\n",
              "      <td>0.2</td>\n",
              "      <td>0.4</td>\n",
              "      <td>0.7</td>\n",
              "      <td>2.2</td>\n",
              "      <td>0.4</td>\n",
              "      <td>0.1</td>\n",
              "      <td>0.8</td>\n",
              "      <td>1.0</td>\n",
              "    </tr>\n",
              "    <tr>\n",
              "      <th>1339</th>\n",
              "      <td>1</td>\n",
              "      <td>47</td>\n",
              "      <td>11.7</td>\n",
              "      <td>4.4</td>\n",
              "      <td>1.6</td>\n",
              "      <td>4.4</td>\n",
              "      <td>36.9</td>\n",
              "      <td>0.4</td>\n",
              "      <td>1.3</td>\n",
              "      <td>33.3</td>\n",
              "      <td>...</td>\n",
              "      <td>1.0</td>\n",
              "      <td>67.3</td>\n",
              "      <td>0.2</td>\n",
              "      <td>0.7</td>\n",
              "      <td>0.9</td>\n",
              "      <td>1.4</td>\n",
              "      <td>0.7</td>\n",
              "      <td>0.1</td>\n",
              "      <td>0.9</td>\n",
              "      <td>1.0</td>\n",
              "    </tr>\n",
              "  </tbody>\n",
              "</table>\n",
              "<p>1329 rows × 21 columns</p>\n",
              "</div>\n",
              "      <button class=\"colab-df-convert\" onclick=\"convertToInteractive('df-6dff43ae-cab2-431c-8ed6-368f20296ad7')\"\n",
              "              title=\"Convert this dataframe to an interactive table.\"\n",
              "              style=\"display:none;\">\n",
              "        \n",
              "  <svg xmlns=\"http://www.w3.org/2000/svg\" height=\"24px\"viewBox=\"0 0 24 24\"\n",
              "       width=\"24px\">\n",
              "    <path d=\"M0 0h24v24H0V0z\" fill=\"none\"/>\n",
              "    <path d=\"M18.56 5.44l.94 2.06.94-2.06 2.06-.94-2.06-.94-.94-2.06-.94 2.06-2.06.94zm-11 1L8.5 8.5l.94-2.06 2.06-.94-2.06-.94L8.5 2.5l-.94 2.06-2.06.94zm10 10l.94 2.06.94-2.06 2.06-.94-2.06-.94-.94-2.06-.94 2.06-2.06.94z\"/><path d=\"M17.41 7.96l-1.37-1.37c-.4-.4-.92-.59-1.43-.59-.52 0-1.04.2-1.43.59L10.3 9.45l-7.72 7.72c-.78.78-.78 2.05 0 2.83L4 21.41c.39.39.9.59 1.41.59.51 0 1.02-.2 1.41-.59l7.78-7.78 2.81-2.81c.8-.78.8-2.07 0-2.86zM5.41 20L4 18.59l7.72-7.72 1.47 1.35L5.41 20z\"/>\n",
              "  </svg>\n",
              "      </button>\n",
              "      \n",
              "  <style>\n",
              "    .colab-df-container {\n",
              "      display:flex;\n",
              "      flex-wrap:wrap;\n",
              "      gap: 12px;\n",
              "    }\n",
              "\n",
              "    .colab-df-convert {\n",
              "      background-color: #E8F0FE;\n",
              "      border: none;\n",
              "      border-radius: 50%;\n",
              "      cursor: pointer;\n",
              "      display: none;\n",
              "      fill: #1967D2;\n",
              "      height: 32px;\n",
              "      padding: 0 0 0 0;\n",
              "      width: 32px;\n",
              "    }\n",
              "\n",
              "    .colab-df-convert:hover {\n",
              "      background-color: #E2EBFA;\n",
              "      box-shadow: 0px 1px 2px rgba(60, 64, 67, 0.3), 0px 1px 3px 1px rgba(60, 64, 67, 0.15);\n",
              "      fill: #174EA6;\n",
              "    }\n",
              "\n",
              "    [theme=dark] .colab-df-convert {\n",
              "      background-color: #3B4455;\n",
              "      fill: #D2E3FC;\n",
              "    }\n",
              "\n",
              "    [theme=dark] .colab-df-convert:hover {\n",
              "      background-color: #434B5C;\n",
              "      box-shadow: 0px 1px 3px 1px rgba(0, 0, 0, 0.15);\n",
              "      filter: drop-shadow(0px 1px 2px rgba(0, 0, 0, 0.3));\n",
              "      fill: #FFFFFF;\n",
              "    }\n",
              "  </style>\n",
              "\n",
              "      <script>\n",
              "        const buttonEl =\n",
              "          document.querySelector('#df-6dff43ae-cab2-431c-8ed6-368f20296ad7 button.colab-df-convert');\n",
              "        buttonEl.style.display =\n",
              "          google.colab.kernel.accessAllowed ? 'block' : 'none';\n",
              "\n",
              "        async function convertToInteractive(key) {\n",
              "          const element = document.querySelector('#df-6dff43ae-cab2-431c-8ed6-368f20296ad7');\n",
              "          const dataTable =\n",
              "            await google.colab.kernel.invokeFunction('convertToInteractive',\n",
              "                                                     [key], {});\n",
              "          if (!dataTable) return;\n",
              "\n",
              "          const docLinkHtml = 'Like what you see? Visit the ' +\n",
              "            '<a target=\"_blank\" href=https://colab.research.google.com/notebooks/data_table.ipynb>data table notebook</a>'\n",
              "            + ' to learn more about interactive tables.';\n",
              "          element.innerHTML = '';\n",
              "          dataTable['output_type'] = 'display_data';\n",
              "          await google.colab.output.renderOutput(dataTable, element);\n",
              "          const docLink = document.createElement('div');\n",
              "          docLink.innerHTML = docLinkHtml;\n",
              "          element.appendChild(docLink);\n",
              "        }\n",
              "      </script>\n",
              "    </div>\n",
              "  </div>\n",
              "  "
            ]
          },
          "metadata": {},
          "execution_count": 19
        }
      ],
      "source": [
        "url = '/content/drive/MyDrive/ColabData/nba_logreg.csv'\n",
        "dataset = pd.read_csv(url)\n",
        "dataset.drop(columns='Name', inplace=True )\n",
        "dataset.insert(loc = 0, column = 'X0', value = 1) #for theta0 during matrix multiplication\n",
        "dataset.dropna(inplace=True)\n",
        "dataset"
      ]
    },
    {
      "cell_type": "code",
      "execution_count": 20,
      "metadata": {
        "id": "q3hT8a88IHDS"
      },
      "outputs": [],
      "source": [
        "def MeanNormalization(a):\n",
        "  return ((a-np.mean(a))/np.std(a))"
      ]
    },
    {
      "cell_type": "code",
      "execution_count": 21,
      "metadata": {
        "colab": {
          "base_uri": "https://localhost:8080/"
        },
        "id": "fFRX-Cu16PaO",
        "outputId": "ed158d22-cf83-48a7-d097-2fd93d1feb61"
      },
      "outputs": [
        {
          "output_type": "execute_result",
          "data": {
            "text/plain": [
              "dtype('float64')"
            ]
          },
          "metadata": {},
          "execution_count": 21
        }
      ],
      "source": [
        "#Nomalization of Features Using Mean Normalization\n",
        "features = dataset.columns[1:-1]\n",
        "for i in features:\n",
        "  dataset[i] = MeanNormalization(dataset[i])\n",
        "\n",
        "df = dataset.to_numpy()\n",
        "df.dtype"
      ]
    },
    {
      "cell_type": "code",
      "execution_count": 22,
      "metadata": {
        "colab": {
          "base_uri": "https://localhost:8080/"
        },
        "id": "lz4mhOY26Uon",
        "outputId": "ecd6fc48-0bc1-49bc-8046-7ee14feadedb"
      },
      "outputs": [
        {
          "output_type": "stream",
          "name": "stdout",
          "text": [
            "Shape of X : (1329, 20)\n",
            "Shape of Y : (1329,)\n"
          ]
        }
      ],
      "source": [
        "#Seperating Features and Output Columns\n",
        "x = df[:,:-1]\n",
        "y = df[:,-1]\n",
        "No_ofFeatures = 20\n",
        "print(f\"Shape of X : {x.shape}\")\n",
        "print(f\"Shape of Y : {y.shape}\")"
      ]
    },
    {
      "cell_type": "code",
      "execution_count": 23,
      "metadata": {
        "colab": {
          "base_uri": "https://localhost:8080/"
        },
        "id": "DS55JXNv6c_C",
        "outputId": "223387f3-5960-4442-b2c5-cb81220bb2f6"
      },
      "outputs": [
        {
          "output_type": "stream",
          "name": "stdout",
          "text": [
            "Shape of TrainX : (1063, 20)\n",
            "Shape of TrainY : (1063,)\n",
            "Shape of TestX : (266, 20)\n",
            "Shape of TestY : (266,)\n"
          ]
        }
      ],
      "source": [
        "#Creating Train Test Split\n",
        "train_X,test_X, train_Y, test_Y = train_test_split(x, y, test_size=0.2, random_state= 25)\n",
        "print(f\"Shape of TrainX : {train_X.shape}\")\n",
        "print(f\"Shape of TrainY : {train_Y.shape}\")\n",
        "print(f\"Shape of TestX : {test_X.shape}\")\n",
        "print(f\"Shape of TestY : {test_Y.shape}\")"
      ]
    },
    {
      "cell_type": "markdown",
      "source": [
        "#Logistic Regression Class Implentation"
      ],
      "metadata": {
        "id": "CWN-jDgoI2QG"
      }
    },
    {
      "cell_type": "code",
      "source": [
        "from sklearn.metrics import accuracy_score\n",
        "import matplotlib.pyplot as plt\n",
        "import seaborn as sns\n",
        "import pandas as pd\n",
        "import numpy as np\n",
        "import random\n",
        "\n",
        "\n",
        "class Logistic_Regressor:\n",
        "  def __init__(self, noOfFeature, lr=0.1):\n",
        "    self.weights = self.InitializeWeights(noOfFeature)\n",
        "    self.learning_rate = lr\n",
        "    self.noOfFeature = noOfFeature\n",
        "    self.ErrorTrain = list()\n",
        "    self.ErrorValidation = list()\n",
        "\n",
        "\n",
        "  #////////////////////////////////////////////////////////////////////////////\n",
        "  #/////THESE ARE FEW GENERIC FUCTIONS THAT ALL THREE(BATCH, STOCHASTIC, MINI-BATCH) GRADIENT DESCENT WILL NEDD\n",
        "  #///////////////////////////////////////////////////////////////////////////\n",
        "\n",
        "  def InitializeWeights(self, noofFeatures):\n",
        "    temp = list()\n",
        "    for i in range(noofFeatures):\n",
        "      temp.append(random.uniform(0.001, 0.1))\n",
        "    return np.array(temp)\n",
        "\n",
        "  def Pridction(self, x, getLabel = False):\n",
        "      if getLabel == True:\n",
        "        sig = 1/(1 + np.exp(- np.matmul(x, self.weights)))\n",
        "        sig = np.minimum(sig, 0.9999)\n",
        "        sig = np.maximum(sig, 0.0001)\n",
        "        return self.Generic_GetLabels(sig)\n",
        "      else:\n",
        "        sig = 1/(1 + np.exp(- np.matmul(x, self.weights)))\n",
        "        sig = np.minimum(sig, 0.9999)\n",
        "        return np.maximum(sig, 0.0001)\n",
        "        \n",
        "  def Generic_BinaryCrossEntropy(self, pridicted, actual):\n",
        "      return np.sum(-((actual * np.log2(pridicted)) + ((1 - actual) * np.log2(1-pridicted))))/len(actual)\n",
        "  \n",
        "  def Generic_DerivateWeights(self, pridcted, actual, tempx):\n",
        "      x = np.transpose(tempx)\n",
        "      return (np.matmul(x, (pridcted-actual))/len(tempx))\n",
        "\n",
        "  def Generic_UpdateWeights(self, derivate):\n",
        "      new_weights = list()\n",
        "      for i in range(len(derivate)):\n",
        "        new_weights.append((self.weights[i]-derivate[i]*self.learning_rate))\n",
        "      self.weights = np.array(new_weights)\n",
        "\n",
        "  def Generic_AccuracyScore(self, actual, pridicted):\n",
        "    return np.round(accuracy_score(actual, pridicted), 4)\n",
        "\n",
        "  def Generic_GetLabels(self, pridicted):\n",
        "    return np.where(pridicted>0.5, 1, 0)\n",
        "\n",
        "  def earlyStopping(self, v_acc, b_acc, b_weights, count , pait, c):\n",
        "\n",
        "    if c > 0:\n",
        "      if v_acc > b_acc:\n",
        "        b_weights = self.weights\n",
        "        b_acc = v_acc\n",
        "        count = 0\n",
        "      else:\n",
        "        count+=1\n",
        "\n",
        "      if self.ErrorValidation[c-1] < self.ErrorValidation[c] or count > 15:\n",
        "        pait+=1\n",
        "        if pait > 3:\n",
        "          self.weights = b_weights\n",
        "          print('****************BEST WEIGHTS ON WHICH HIGHEST ACCURACY ACHIEVED - RESTORIED******************')\n",
        "          return True, b_acc, b_weights, count, pait\n",
        "        else:\n",
        "          return False, b_acc, b_weights, count, pait\n",
        "      else:\n",
        "        pait = 0\n",
        "        return False, b_acc, b_weights, count, pait\n",
        "    else:\n",
        "      return False, v_acc, self.weights, count, pait\n",
        "\n",
        "\n",
        "\n",
        "  \n",
        "  #////////////////////////////////////////////////////////////////////////////\n",
        "  #/////THESE ARE IMPLEMENTAION OF THE THREE(BATCH, STOCHASTIC, MINI-BATCH) GRADIENT DESCENT\n",
        "  #///////////////////////////////////////////////////////////////////////////\n",
        "\n",
        "  #*******BATCH GRADIENT DESCENT********\n",
        "\n",
        "  def Batch_GD(self, trainX, trainY, testX, testY):\n",
        "    Patience = 0\n",
        "    No_ofIteration = 0\n",
        "    best_accuracy = 0\n",
        "    best_weights = [0,0,0]\n",
        "    bestUnchangedCount = 0\n",
        "\n",
        "    for c in range(100000000):\n",
        "      print(f\"Epoch {c+1}:\\n\")\n",
        "      \n",
        "      hTrain = self.Pridction(trainX)\n",
        "      JTrain = self.Generic_BinaryCrossEntropy(hTrain, trainY)\n",
        "      derivate_weights = self.Generic_DerivateWeights(hTrain, trainY, trainX)\n",
        "      self.Generic_UpdateWeights(derivate_weights)\n",
        "\n",
        "      self.ErrorTrain.append(JTrain)\n",
        "      validation = self.Pridction(test_X)\n",
        "      validationError = np.round(self.Generic_BinaryCrossEntropy(validation, testY),8)\n",
        "      validation = self.Generic_GetLabels(validation)\n",
        "      validation_acc = self.Generic_AccuracyScore(test_Y, validation)\n",
        "      self.ErrorValidation.append(validationError)\n",
        "\n",
        "      print(\"Traning Error : \", end = \" \")\n",
        "      print(f\"{np.round(self.ErrorTrain[c],8)}   ||   Validation Error : {validationError}    Validation Accuracy : {validation_acc}  \")\n",
        "      print()\n",
        "      print(\"===========================================================================================================================================\")\n",
        "      loopBreaker, best_accuracy, best_weights, bestUnchangedCount, Patience = self.earlyStopping(validation_acc, best_accuracy, best_weights, bestUnchangedCount, Patience, c)\n",
        "      if(loopBreaker == True):\n",
        "        break\n",
        "  \n",
        "\n",
        "  #*******STOCHASTIC GRADIENT DESCENT********\n",
        "\n",
        "  def Stochastic_GD(self, trainX, trainY, testX, testY):\n",
        "\n",
        "    def Stochastic_BinaryCrossEntropy(pridicted, actual):\n",
        "      return -((actual * np.log2(pridicted)) + ((1 - actual) * np.log2(1-pridicted)))\n",
        "\n",
        "    def Stochastic_DerivateWeights(pridicted, actual, tempx):\n",
        "      return tempx * (pridicted-actual)\n",
        "\n",
        "    Patience = 0\n",
        "    No_ofIteration = 0\n",
        "    best_accuracy = 0\n",
        "    best_weights = list()\n",
        "    bestUnchangedCount = 0\n",
        "\n",
        "    for c in range(100000000):\n",
        "      print(f\"Epoch {c+1}:\\n\")\n",
        "\n",
        "      tempTrainError = list()\n",
        "      for r in range(len(trainX)):\n",
        "        hTrain = self.Pridction(trainX[r,:])\n",
        "        JTrain = Stochastic_BinaryCrossEntropy(hTrain, trainY[r])\n",
        "        tempTrainError.append(JTrain)\n",
        "        derivate_weights = Stochastic_DerivateWeights(hTrain, trainY[r], trainX[r,:])\n",
        "        self.Generic_UpdateWeights(derivate_weights)\n",
        "    \n",
        "      self.ErrorTrain.append(np.mean(tempTrainError))\n",
        "      validation = self.Pridction(test_X)\n",
        "      validationError = np.round(self.Generic_BinaryCrossEntropy(validation, testY),8)\n",
        "      validation = self.Generic_GetLabels(validation)\n",
        "      validation_acc = self.Generic_AccuracyScore(test_Y, validation)\n",
        "      self.ErrorValidation.append(validationError)\n",
        "\n",
        "      print(end=f\"{r}/{len(trainX)-1} :   Traning Error : \")\n",
        "      print(f\"{np.round(self.ErrorTrain[c],8)}   ||   Validation Error : {validationError}    Validation Accuracy : {validation_acc}  \")\n",
        "      print()\n",
        "      print(\"===========================================================================================================================================\")\n",
        "      \n",
        "      \n",
        "      loopBreaker, best_accuracy, best_weights, bestUnchangedCount, Patience = self.earlyStopping(validation_acc, best_accuracy, best_weights, bestUnchangedCount, Patience, c)\n",
        "      if(loopBreaker == True):\n",
        "        break\n",
        "\n",
        "  #*******MINI-BATCH GRADIENT DESCENT********\n",
        "\n",
        "  def MiniBatch_GD(self, trainX, trainY, testX, testY, batch_size):\n",
        "    \n",
        "    Patience = 0\n",
        "    No_ofIteration = 0\n",
        "    best_accuracy = 0\n",
        "    best_weights = list()\n",
        "    bestUnchangedCount = 0\n",
        "    No_ofDataPerEpoch = len(trainX)//batch_size\n",
        "\n",
        "    for c in range(100000000):\n",
        "      print(f\"Epoch {c+1}:\\n\")\n",
        "\n",
        "      batch_start = 0\n",
        "      batch_end = 0\n",
        "      tempTrainError = list()\n",
        "\n",
        "      for r in range(No_ofDataPerEpoch):\n",
        "        batch_start = batch_end\n",
        "        batch_end = batch_start + batch_size\n",
        "        hTrain = self.Pridction(trainX[batch_start:batch_end,:])\n",
        "        JTrain = self.Generic_BinaryCrossEntropy(hTrain, trainY[batch_start:batch_end])\n",
        "        tempTrainError.append(JTrain)\n",
        "        derivate_weights = self.Generic_DerivateWeights(hTrain, trainY[batch_start:batch_end], trainX[batch_start:batch_end,:])\n",
        "        self.Generic_UpdateWeights(derivate_weights)\n",
        "\n",
        "      self.ErrorTrain.append(np.mean(tempTrainError))\n",
        "      validation = self.Pridction(test_X)\n",
        "      validationError = np.round(self.Generic_BinaryCrossEntropy(validation, testY),8)\n",
        "      validation = self.Generic_GetLabels(validation)\n",
        "      validation_acc = self.Generic_AccuracyScore(test_Y, validation)\n",
        "      self.ErrorValidation.append(validationError)\n",
        "\n",
        "      print(end=\"Traning Error : \")\n",
        "      print(f\"{np.round(self.ErrorTrain[c],8)}   ||   Validation Error : {validationError}    Validation Accuracy : {validation_acc}  \")\n",
        "      print()\n",
        "      print(\"===========================================================================================================================================\")\n",
        "      loopBreaker, best_accuracy, best_weights, bestUnchangedCount, Patience = self.earlyStopping(validation_acc, best_accuracy, best_weights, bestUnchangedCount, Patience, c)\n",
        "      if(loopBreaker == True):\n",
        "        break\n",
        "    "
      ],
      "metadata": {
        "id": "DseOmqQtqfYF"
      },
      "execution_count": 24,
      "outputs": []
    },
    {
      "cell_type": "markdown",
      "source": [
        "#Batch Gradient Descent "
      ],
      "metadata": {
        "id": "HLh7r_jWIdTy"
      }
    },
    {
      "cell_type": "code",
      "source": [
        "Batch_Model = Logistic_Regressor(No_ofFeatures, 0.1)\n",
        "Batch_Model.Batch_GD(train_X, train_Y, test_X, test_Y)"
      ],
      "metadata": {
        "colab": {
          "base_uri": "https://localhost:8080/"
        },
        "id": "cTkV2U3kC4I2",
        "outputId": "75ae88f3-37d8-4126-e018-6974c226001f"
      },
      "execution_count": 25,
      "outputs": [
        {
          "output_type": "stream",
          "name": "stdout",
          "text": [
            "Epoch 1:\n",
            "\n",
            "Traning Error :  0.88814458   ||   Validation Error : 0.91395218    Validation Accuracy : 0.6579  \n",
            "\n",
            "===========================================================================================================================================\n",
            "Epoch 2:\n",
            "\n",
            "Traning Error :  0.88314274   ||   Validation Error : 0.90954909    Validation Accuracy : 0.6617  \n",
            "\n",
            "===========================================================================================================================================\n",
            "Epoch 3:\n",
            "\n",
            "Traning Error :  0.87882369   ||   Validation Error : 0.90553344    Validation Accuracy : 0.6654  \n",
            "\n",
            "===========================================================================================================================================\n",
            "Epoch 4:\n",
            "\n",
            "Traning Error :  0.87502198   ||   Validation Error : 0.90182761    Validation Accuracy : 0.6692  \n",
            "\n",
            "===========================================================================================================================================\n",
            "Epoch 5:\n",
            "\n",
            "Traning Error :  0.8716237   ||   Validation Error : 0.89837733    Validation Accuracy : 0.6729  \n",
            "\n",
            "===========================================================================================================================================\n",
            "Epoch 6:\n",
            "\n",
            "Traning Error :  0.86854824   ||   Validation Error : 0.89514357    Validation Accuracy : 0.6805  \n",
            "\n",
            "===========================================================================================================================================\n",
            "Epoch 7:\n",
            "\n",
            "Traning Error :  0.8657371   ||   Validation Error : 0.89209741    Validation Accuracy : 0.6842  \n",
            "\n",
            "===========================================================================================================================================\n",
            "Epoch 8:\n",
            "\n",
            "Traning Error :  0.86314677   ||   Validation Error : 0.8892168    Validation Accuracy : 0.6842  \n",
            "\n",
            "===========================================================================================================================================\n",
            "Epoch 9:\n",
            "\n",
            "Traning Error :  0.86074421   ||   Validation Error : 0.88648453    Validation Accuracy : 0.6842  \n",
            "\n",
            "===========================================================================================================================================\n",
            "Epoch 10:\n",
            "\n",
            "Traning Error :  0.85850376   ||   Validation Error : 0.88388676    Validation Accuracy : 0.6842  \n",
            "\n",
            "===========================================================================================================================================\n",
            "Epoch 11:\n",
            "\n",
            "Traning Error :  0.85640514   ||   Validation Error : 0.88141213    Validation Accuracy : 0.688  \n",
            "\n",
            "===========================================================================================================================================\n",
            "Epoch 12:\n",
            "\n",
            "Traning Error :  0.85443204   ||   Validation Error : 0.87905112    Validation Accuracy : 0.688  \n",
            "\n",
            "===========================================================================================================================================\n",
            "Epoch 13:\n",
            "\n",
            "Traning Error :  0.85257112   ||   Validation Error : 0.87679559    Validation Accuracy : 0.688  \n",
            "\n",
            "===========================================================================================================================================\n",
            "Epoch 14:\n",
            "\n",
            "Traning Error :  0.85081131   ||   Validation Error : 0.87463847    Validation Accuracy : 0.688  \n",
            "\n",
            "===========================================================================================================================================\n",
            "Epoch 15:\n",
            "\n",
            "Traning Error :  0.84914333   ||   Validation Error : 0.87257355    Validation Accuracy : 0.6917  \n",
            "\n",
            "===========================================================================================================================================\n",
            "Epoch 16:\n",
            "\n",
            "Traning Error :  0.84755927   ||   Validation Error : 0.87059529    Validation Accuracy : 0.6917  \n",
            "\n",
            "===========================================================================================================================================\n",
            "Epoch 17:\n",
            "\n",
            "Traning Error :  0.84605233   ||   Validation Error : 0.8686987    Validation Accuracy : 0.6955  \n",
            "\n",
            "===========================================================================================================================================\n",
            "Epoch 18:\n",
            "\n",
            "Traning Error :  0.84461663   ||   Validation Error : 0.86687926    Validation Accuracy : 0.6955  \n",
            "\n",
            "===========================================================================================================================================\n",
            "Epoch 19:\n",
            "\n",
            "Traning Error :  0.84324702   ||   Validation Error : 0.86513285    Validation Accuracy : 0.6955  \n",
            "\n",
            "===========================================================================================================================================\n",
            "Epoch 20:\n",
            "\n",
            "Traning Error :  0.84193893   ||   Validation Error : 0.86345568    Validation Accuracy : 0.6955  \n",
            "\n",
            "===========================================================================================================================================\n",
            "Epoch 21:\n",
            "\n",
            "Traning Error :  0.84068833   ||   Validation Error : 0.86184423    Validation Accuracy : 0.6992  \n",
            "\n",
            "===========================================================================================================================================\n",
            "Epoch 22:\n",
            "\n",
            "Traning Error :  0.8394916   ||   Validation Error : 0.86029527    Validation Accuracy : 0.6992  \n",
            "\n",
            "===========================================================================================================================================\n",
            "Epoch 23:\n",
            "\n",
            "Traning Error :  0.8383455   ||   Validation Error : 0.85880577    Validation Accuracy : 0.6992  \n",
            "\n",
            "===========================================================================================================================================\n",
            "Epoch 24:\n",
            "\n",
            "Traning Error :  0.83724706   ||   Validation Error : 0.85737291    Validation Accuracy : 0.703  \n",
            "\n",
            "===========================================================================================================================================\n",
            "Epoch 25:\n",
            "\n",
            "Traning Error :  0.83619362   ||   Validation Error : 0.85599404    Validation Accuracy : 0.6917  \n",
            "\n",
            "===========================================================================================================================================\n",
            "Epoch 26:\n",
            "\n",
            "Traning Error :  0.83518274   ||   Validation Error : 0.85466669    Validation Accuracy : 0.6917  \n",
            "\n",
            "===========================================================================================================================================\n",
            "Epoch 27:\n",
            "\n",
            "Traning Error :  0.83421215   ||   Validation Error : 0.85338853    Validation Accuracy : 0.6917  \n",
            "\n",
            "===========================================================================================================================================\n",
            "Epoch 28:\n",
            "\n",
            "Traning Error :  0.8332798   ||   Validation Error : 0.85215735    Validation Accuracy : 0.6955  \n",
            "\n",
            "===========================================================================================================================================\n",
            "Epoch 29:\n",
            "\n",
            "Traning Error :  0.83238377   ||   Validation Error : 0.85097108    Validation Accuracy : 0.6992  \n",
            "\n",
            "===========================================================================================================================================\n",
            "Epoch 30:\n",
            "\n",
            "Traning Error :  0.83152229   ||   Validation Error : 0.84982777    Validation Accuracy : 0.6992  \n",
            "\n",
            "===========================================================================================================================================\n",
            "Epoch 31:\n",
            "\n",
            "Traning Error :  0.83069369   ||   Validation Error : 0.84872555    Validation Accuracy : 0.7068  \n",
            "\n",
            "===========================================================================================================================================\n",
            "Epoch 32:\n",
            "\n",
            "Traning Error :  0.82989645   ||   Validation Error : 0.84766268    Validation Accuracy : 0.7068  \n",
            "\n",
            "===========================================================================================================================================\n",
            "Epoch 33:\n",
            "\n",
            "Traning Error :  0.82912911   ||   Validation Error : 0.84663749    Validation Accuracy : 0.7068  \n",
            "\n",
            "===========================================================================================================================================\n",
            "Epoch 34:\n",
            "\n",
            "Traning Error :  0.82839032   ||   Validation Error : 0.84564838    Validation Accuracy : 0.7068  \n",
            "\n",
            "===========================================================================================================================================\n",
            "Epoch 35:\n",
            "\n",
            "Traning Error :  0.8276788   ||   Validation Error : 0.84469387    Validation Accuracy : 0.7068  \n",
            "\n",
            "===========================================================================================================================================\n",
            "Epoch 36:\n",
            "\n",
            "Traning Error :  0.82699337   ||   Validation Error : 0.84377253    Validation Accuracy : 0.7105  \n",
            "\n",
            "===========================================================================================================================================\n",
            "Epoch 37:\n",
            "\n",
            "Traning Error :  0.82633288   ||   Validation Error : 0.84288298    Validation Accuracy : 0.7143  \n",
            "\n",
            "===========================================================================================================================================\n",
            "Epoch 38:\n",
            "\n",
            "Traning Error :  0.82569627   ||   Validation Error : 0.84202394    Validation Accuracy : 0.7143  \n",
            "\n",
            "===========================================================================================================================================\n",
            "Epoch 39:\n",
            "\n",
            "Traning Error :  0.82508252   ||   Validation Error : 0.84119418    Validation Accuracy : 0.718  \n",
            "\n",
            "===========================================================================================================================================\n",
            "Epoch 40:\n",
            "\n",
            "Traning Error :  0.82449068   ||   Validation Error : 0.84039252    Validation Accuracy : 0.718  \n",
            "\n",
            "===========================================================================================================================================\n",
            "Epoch 41:\n",
            "\n",
            "Traning Error :  0.82391984   ||   Validation Error : 0.83961783    Validation Accuracy : 0.7143  \n",
            "\n",
            "===========================================================================================================================================\n",
            "Epoch 42:\n",
            "\n",
            "Traning Error :  0.82336912   ||   Validation Error : 0.83886905    Validation Accuracy : 0.7105  \n",
            "\n",
            "===========================================================================================================================================\n",
            "Epoch 43:\n",
            "\n",
            "Traning Error :  0.82283772   ||   Validation Error : 0.83814516    Validation Accuracy : 0.7143  \n",
            "\n",
            "===========================================================================================================================================\n",
            "Epoch 44:\n",
            "\n",
            "Traning Error :  0.82232483   ||   Validation Error : 0.83744518    Validation Accuracy : 0.7105  \n",
            "\n",
            "===========================================================================================================================================\n",
            "Epoch 45:\n",
            "\n",
            "Traning Error :  0.82182973   ||   Validation Error : 0.83676818    Validation Accuracy : 0.7105  \n",
            "\n",
            "===========================================================================================================================================\n",
            "Epoch 46:\n",
            "\n",
            "Traning Error :  0.8213517   ||   Validation Error : 0.83611326    Validation Accuracy : 0.7143  \n",
            "\n",
            "===========================================================================================================================================\n",
            "Epoch 47:\n",
            "\n",
            "Traning Error :  0.82089006   ||   Validation Error : 0.83547959    Validation Accuracy : 0.7143  \n",
            "\n",
            "===========================================================================================================================================\n",
            "Epoch 48:\n",
            "\n",
            "Traning Error :  0.82044416   ||   Validation Error : 0.83486634    Validation Accuracy : 0.7143  \n",
            "\n",
            "===========================================================================================================================================\n",
            "Epoch 49:\n",
            "\n",
            "Traning Error :  0.8200134   ||   Validation Error : 0.83427273    Validation Accuracy : 0.7105  \n",
            "\n",
            "===========================================================================================================================================\n",
            "Epoch 50:\n",
            "\n",
            "Traning Error :  0.81959716   ||   Validation Error : 0.83369803    Validation Accuracy : 0.7105  \n",
            "\n",
            "===========================================================================================================================================\n",
            "Epoch 51:\n",
            "\n",
            "Traning Error :  0.8191949   ||   Validation Error : 0.83314151    Validation Accuracy : 0.7068  \n",
            "\n",
            "===========================================================================================================================================\n",
            "Epoch 52:\n",
            "\n",
            "Traning Error :  0.81880608   ||   Validation Error : 0.8326025    Validation Accuracy : 0.7105  \n",
            "\n",
            "===========================================================================================================================================\n",
            "Epoch 53:\n",
            "\n",
            "Traning Error :  0.81843017   ||   Validation Error : 0.83208034    Validation Accuracy : 0.7105  \n",
            "\n",
            "===========================================================================================================================================\n",
            "Epoch 54:\n",
            "\n",
            "Traning Error :  0.81806668   ||   Validation Error : 0.8315744    Validation Accuracy : 0.7105  \n",
            "\n",
            "===========================================================================================================================================\n",
            "Epoch 55:\n",
            "\n",
            "Traning Error :  0.81771514   ||   Validation Error : 0.8310841    Validation Accuracy : 0.7105  \n",
            "\n",
            "===========================================================================================================================================\n",
            "Epoch 56:\n",
            "\n",
            "Traning Error :  0.8173751   ||   Validation Error : 0.83060884    Validation Accuracy : 0.7105  \n",
            "\n",
            "===========================================================================================================================================\n",
            "Epoch 57:\n",
            "\n",
            "Traning Error :  0.81704612   ||   Validation Error : 0.83014808    Validation Accuracy : 0.7105  \n",
            "\n",
            "===========================================================================================================================================\n",
            "Epoch 58:\n",
            "\n",
            "Traning Error :  0.81672779   ||   Validation Error : 0.8297013    Validation Accuracy : 0.7105  \n",
            "\n",
            "===========================================================================================================================================\n",
            "****************BEST WEIGHTS ON WHICH HIGHEST ACCURACY ACHIEVED - RESTORIED******************\n"
          ]
        }
      ]
    },
    {
      "cell_type": "code",
      "source": [
        "validation_prediction_Batch = Batch_Model.Pridction(test_X, getLabel=True)\n",
        "print(f\"Accuracy on Testing Data : {Batch_Model.Generic_AccuracyScore(test_Y, validation_prediction_Batch)}\")"
      ],
      "metadata": {
        "colab": {
          "base_uri": "https://localhost:8080/"
        },
        "id": "oF5_bIw8IPFg",
        "outputId": "4f085782-1bf9-4e35-f164-d1fe856e3884"
      },
      "execution_count": 26,
      "outputs": [
        {
          "output_type": "stream",
          "name": "stdout",
          "text": [
            "Accuracy on Testing Data : 0.718\n"
          ]
        }
      ]
    },
    {
      "cell_type": "code",
      "source": [
        "plt.plot(range(len(Batch_Model.ErrorTrain)), Batch_Model.ErrorTrain, c= 'blue', label = 'ErrorTrain')\n",
        "plt.plot(range(len(Batch_Model.ErrorValidation)), Batch_Model.ErrorValidation, c= 'red', label = 'ErrorValidation')\n",
        "plt.xlabel('Epochs')\n",
        "plt.ylabel('Train Error, Validation Error')\n",
        "plt.title(\"ErrorTrain and ErrorValidation vs Epochs\")\n",
        "plt.legend()\n",
        "plt.show"
      ],
      "metadata": {
        "colab": {
          "base_uri": "https://localhost:8080/",
          "height": 313
        },
        "id": "r3iRnXS7a3uK",
        "outputId": "4d283abe-16d3-4e78-b422-f89b87c57ce9"
      },
      "execution_count": 27,
      "outputs": [
        {
          "output_type": "execute_result",
          "data": {
            "text/plain": [
              "<function matplotlib.pyplot.show>"
            ]
          },
          "metadata": {},
          "execution_count": 27
        },
        {
          "output_type": "display_data",
          "data": {
            "text/plain": [
              "<Figure size 432x288 with 1 Axes>"
            ],
            "image/png": "[encoded data removed]"
          },
          "metadata": {
            "needs_background": "light"
          }
        }
      ]
    },
    {
      "cell_type": "code",
      "source": [
        "print(classification_report(test_Y, validation_prediction_Batch))\n",
        "conf_Matrix_BGD = confusion_matrix(test_Y, validation_prediction_Batch)\n",
        "sns.heatmap(conf_Matrix_BGD, annot=True)\n",
        "print(\"Accuracy : \", (conf_Matrix_BGD[0,0] + conf_Matrix_BGD[1,1])/(np.sum(conf_Matrix_BGD)))"
      ],
      "metadata": {
        "colab": {
          "base_uri": "https://localhost:8080/",
          "height": 447
        },
        "id": "YgEWOS5UgLXP",
        "outputId": "9d65a93a-ce92-4d7e-e5e8-814f2e77cd4c"
      },
      "execution_count": 28,
      "outputs": [
        {
          "output_type": "stream",
          "name": "stdout",
          "text": [
            "              precision    recall  f1-score   support\n",
            "\n",
            "         0.0       0.62      0.62      0.62        98\n",
            "         1.0       0.78      0.77      0.78       168\n",
            "\n",
            "    accuracy                           0.72       266\n",
            "   macro avg       0.70      0.70      0.70       266\n",
            "weighted avg       0.72      0.72      0.72       266\n",
            "\n",
            "Accuracy :  0.7180451127819549\n"
          ]
        },
        {
          "output_type": "display_data",
          "data": {
            "text/plain": [
              "<Figure size 432x288 with 2 Axes>"
            ],
            "image/png": "[encoded data removed]"
          },
          "metadata": {
            "needs_background": "light"
          }
        }
      ]
    },
    {
      "cell_type": "markdown",
      "source": [
        "#Stochastic Gradient Descent"
      ],
      "metadata": {
        "id": "xzz6s7SHIheq"
      }
    },
    {
      "cell_type": "code",
      "execution_count": 29,
      "metadata": {
        "colab": {
          "base_uri": "https://localhost:8080/"
        },
        "id": "sKB2yiTjUfue",
        "outputId": "4b632625-fc97-40b5-9bd0-1961feca2bc4"
      },
      "outputs": [
        {
          "output_type": "stream",
          "name": "stdout",
          "text": [
            "Epoch 1:\n",
            "\n",
            "1062/1062 :   Traning Error : 0.94325887   ||   Validation Error : 0.83971548    Validation Accuracy : 0.7218  \n",
            "\n",
            "===========================================================================================================================================\n",
            "Epoch 2:\n",
            "\n",
            "1062/1062 :   Traning Error : 0.93488007   ||   Validation Error : 0.84387024    Validation Accuracy : 0.7218  \n",
            "\n",
            "===========================================================================================================================================\n",
            "Epoch 3:\n",
            "\n",
            "1062/1062 :   Traning Error : 0.93402416   ||   Validation Error : 0.84687765    Validation Accuracy : 0.7293  \n",
            "\n",
            "===========================================================================================================================================\n",
            "Epoch 4:\n",
            "\n",
            "1062/1062 :   Traning Error : 0.93381446   ||   Validation Error : 0.84862596    Validation Accuracy : 0.7331  \n",
            "\n",
            "===========================================================================================================================================\n",
            "Epoch 5:\n",
            "\n",
            "1062/1062 :   Traning Error : 0.93366484   ||   Validation Error : 0.84965106    Validation Accuracy : 0.7331  \n",
            "\n",
            "===========================================================================================================================================\n",
            "****************BEST WEIGHTS ON WHICH HIGHEST ACCURACY ACHIEVED - RESTORIED******************\n"
          ]
        }
      ],
      "source": [
        "SGD_Model = Logistic_Regressor(No_ofFeatures, 0.1)\n",
        "SGD_Model.Stochastic_GD(train_X, train_Y, test_X, test_Y)"
      ]
    },
    {
      "cell_type": "code",
      "execution_count": 30,
      "metadata": {
        "colab": {
          "base_uri": "https://localhost:8080/"
        },
        "id": "pezO-n42M4Hn",
        "outputId": "b96bec58-2b5c-49f6-b10a-c580584a3455"
      },
      "outputs": [
        {
          "output_type": "stream",
          "name": "stdout",
          "text": [
            "Accuracy on Testing Data : 0.7331\n"
          ]
        }
      ],
      "source": [
        "validation_prediction = SGD_Model.Pridction(test_X, getLabel=True)\n",
        "print(f\"Accuracy on Testing Data : {SGD_Model.Generic_AccuracyScore(test_Y, validation_prediction)}\")"
      ]
    },
    {
      "cell_type": "code",
      "source": [
        "plt.plot(range(len(SGD_Model.ErrorTrain)), SGD_Model.ErrorTrain, c= 'blue', label = 'ErrorTrain')\n",
        "plt.plot(range(len(SGD_Model.ErrorValidation)), SGD_Model.ErrorValidation, c= 'red', label = 'ErrorValidation')\n",
        "plt.xlabel('Epochs')\n",
        "plt.ylabel('Train Error, Validation Error')\n",
        "plt.title(\"ErrorTrain and ErrorValidation vs Epochs\")\n",
        "plt.legend()\n",
        "plt.show"
      ],
      "metadata": {
        "colab": {
          "base_uri": "https://localhost:8080/",
          "height": 313
        },
        "id": "61hp3uENapzb",
        "outputId": "041f8d06-8adc-4f43-f3b0-94f173d39709"
      },
      "execution_count": 31,
      "outputs": [
        {
          "output_type": "execute_result",
          "data": {
            "text/plain": [
              "<function matplotlib.pyplot.show>"
            ]
          },
          "metadata": {},
          "execution_count": 31
        },
        {
          "output_type": "display_data",
          "data": {
            "text/plain": [
              "<Figure size 432x288 with 1 Axes>"
            ],
            "image/png": "[encoded data removed]"
          },
          "metadata": {
            "needs_background": "light"
          }
        }
      ]
    },
    {
      "cell_type": "code",
      "source": [
        "print(classification_report(test_Y, validation_prediction))\n",
        "conf_Matrix_SGD = confusion_matrix(test_Y, validation_prediction)\n",
        "sns.heatmap(conf_Matrix_SGD, annot=True)\n",
        "print(\"Accuracy : \", (conf_Matrix_SGD[0,0] + conf_Matrix_SGD[1,1])/(np.sum(conf_Matrix_SGD)))"
      ],
      "metadata": {
        "colab": {
          "base_uri": "https://localhost:8080/",
          "height": 447
        },
        "id": "8a4IQIhyf37u",
        "outputId": "9b3692be-5114-4c9c-daef-87666c15b6ba"
      },
      "execution_count": 32,
      "outputs": [
        {
          "output_type": "stream",
          "name": "stdout",
          "text": [
            "              precision    recall  f1-score   support\n",
            "\n",
            "         0.0       0.64      0.64      0.64        98\n",
            "         1.0       0.79      0.79      0.79       168\n",
            "\n",
            "    accuracy                           0.73       266\n",
            "   macro avg       0.71      0.71      0.71       266\n",
            "weighted avg       0.73      0.73      0.73       266\n",
            "\n",
            "Accuracy :  0.7330827067669173\n"
          ]
        },
        {
          "output_type": "display_data",
          "data": {
            "text/plain": [
              "<Figure size 432x288 with 2 Axes>"
            ],
            "image/png": "[encoded data removed]"
          },
          "metadata": {
            "needs_background": "light"
          }
        }
      ]
    },
    {
      "cell_type": "markdown",
      "source": [
        "#Mini-Batch Gradient Descent "
      ],
      "metadata": {
        "id": "6NmK7GgFbJg1"
      }
    },
    {
      "cell_type": "code",
      "source": [
        "MiniBatch_Model = Logistic_Regressor(No_ofFeatures, 0.1)\n",
        "MiniBatch_Model.MiniBatch_GD(train_X, train_Y, test_X, test_Y, 32)"
      ],
      "metadata": {
        "id": "eRpsePzobInl",
        "colab": {
          "base_uri": "https://localhost:8080/"
        },
        "outputId": "44c4ce8c-221f-4bca-d826-223d9ef5e630"
      },
      "execution_count": 33,
      "outputs": [
        {
          "output_type": "stream",
          "name": "stdout",
          "text": [
            "Epoch 1:\n",
            "\n",
            "Traning Error : 0.86674851   ||   Validation Error : 0.85591078    Validation Accuracy : 0.7068  \n",
            "\n",
            "===========================================================================================================================================\n",
            "Epoch 2:\n",
            "\n",
            "Traning Error : 0.83096589   ||   Validation Error : 0.83160821    Validation Accuracy : 0.7105  \n",
            "\n",
            "===========================================================================================================================================\n",
            "Epoch 3:\n",
            "\n",
            "Traning Error : 0.82030455   ||   Validation Error : 0.82266812    Validation Accuracy : 0.7068  \n",
            "\n",
            "===========================================================================================================================================\n",
            "Epoch 4:\n",
            "\n",
            "Traning Error : 0.81623424   ||   Validation Error : 0.81870494    Validation Accuracy : 0.703  \n",
            "\n",
            "===========================================================================================================================================\n",
            "Epoch 5:\n",
            "\n",
            "Traning Error : 0.81432   ||   Validation Error : 0.81662277    Validation Accuracy : 0.7105  \n",
            "\n",
            "===========================================================================================================================================\n",
            "Epoch 6:\n",
            "\n",
            "Traning Error : 0.81321019   ||   Validation Error : 0.81533906    Validation Accuracy : 0.7143  \n",
            "\n",
            "===========================================================================================================================================\n",
            "Epoch 7:\n",
            "\n",
            "Traning Error : 0.81244214   ||   Validation Error : 0.81442879    Validation Accuracy : 0.7143  \n",
            "\n",
            "===========================================================================================================================================\n",
            "Epoch 8:\n",
            "\n",
            "Traning Error : 0.81184087   ||   Validation Error : 0.8137104    Validation Accuracy : 0.7143  \n",
            "\n",
            "===========================================================================================================================================\n",
            "Epoch 9:\n",
            "\n",
            "Traning Error : 0.81133374   ||   Validation Error : 0.81310129    Validation Accuracy : 0.7143  \n",
            "\n",
            "===========================================================================================================================================\n",
            "Epoch 10:\n",
            "\n",
            "Traning Error : 0.8108877   ||   Validation Error : 0.81256201    Validation Accuracy : 0.7143  \n",
            "\n",
            "===========================================================================================================================================\n",
            "Epoch 11:\n",
            "\n",
            "Traning Error : 0.81048618   ||   Validation Error : 0.81207288    Validation Accuracy : 0.7143  \n",
            "\n",
            "===========================================================================================================================================\n",
            "Epoch 12:\n",
            "\n",
            "Traning Error : 0.81011991   ||   Validation Error : 0.81162355    Validation Accuracy : 0.7143  \n",
            "\n",
            "===========================================================================================================================================\n",
            "Epoch 13:\n",
            "\n",
            "Traning Error : 0.80978313   ||   Validation Error : 0.81120818    Validation Accuracy : 0.718  \n",
            "\n",
            "===========================================================================================================================================\n",
            "Epoch 14:\n",
            "\n",
            "Traning Error : 0.80947188   ||   Validation Error : 0.81082313    Validation Accuracy : 0.718  \n",
            "\n",
            "===========================================================================================================================================\n",
            "Epoch 15:\n",
            "\n",
            "Traning Error : 0.80918316   ||   Validation Error : 0.81046587    Validation Accuracy : 0.718  \n",
            "\n",
            "===========================================================================================================================================\n",
            "Epoch 16:\n",
            "\n",
            "Traning Error : 0.80891461   ||   Validation Error : 0.81013442    Validation Accuracy : 0.7143  \n",
            "\n",
            "===========================================================================================================================================\n",
            "Epoch 17:\n",
            "\n",
            "Traning Error : 0.80866422   ||   Validation Error : 0.80982705    Validation Accuracy : 0.7143  \n",
            "\n",
            "===========================================================================================================================================\n",
            "Epoch 18:\n",
            "\n",
            "Traning Error : 0.80843029   ||   Validation Error : 0.80954225    Validation Accuracy : 0.7218  \n",
            "\n",
            "===========================================================================================================================================\n",
            "Epoch 19:\n",
            "\n",
            "Traning Error : 0.80821132   ||   Validation Error : 0.80927857    Validation Accuracy : 0.7143  \n",
            "\n",
            "===========================================================================================================================================\n",
            "Epoch 20:\n",
            "\n",
            "Traning Error : 0.80800599   ||   Validation Error : 0.80903467    Validation Accuracy : 0.7143  \n",
            "\n",
            "===========================================================================================================================================\n",
            "Epoch 21:\n",
            "\n",
            "Traning Error : 0.80781312   ||   Validation Error : 0.80880927    Validation Accuracy : 0.7143  \n",
            "\n",
            "===========================================================================================================================================\n",
            "Epoch 22:\n",
            "\n",
            "Traning Error : 0.80763166   ||   Validation Error : 0.80860116    Validation Accuracy : 0.7105  \n",
            "\n",
            "===========================================================================================================================================\n",
            "Epoch 23:\n",
            "\n",
            "Traning Error : 0.80746066   ||   Validation Error : 0.8084092    Validation Accuracy : 0.7068  \n",
            "\n",
            "===========================================================================================================================================\n",
            "Epoch 24:\n",
            "\n",
            "Traning Error : 0.80729926   ||   Validation Error : 0.80823232    Validation Accuracy : 0.7068  \n",
            "\n",
            "===========================================================================================================================================\n",
            "Epoch 25:\n",
            "\n",
            "Traning Error : 0.80714669   ||   Validation Error : 0.80806951    Validation Accuracy : 0.7068  \n",
            "\n",
            "===========================================================================================================================================\n",
            "Epoch 26:\n",
            "\n",
            "Traning Error : 0.80700226   ||   Validation Error : 0.80791982    Validation Accuracy : 0.703  \n",
            "\n",
            "===========================================================================================================================================\n",
            "Epoch 27:\n",
            "\n",
            "Traning Error : 0.80686533   ||   Validation Error : 0.80778236    Validation Accuracy : 0.703  \n",
            "\n",
            "===========================================================================================================================================\n",
            "Epoch 28:\n",
            "\n",
            "Traning Error : 0.80673532   ||   Validation Error : 0.8076563    Validation Accuracy : 0.703  \n",
            "\n",
            "===========================================================================================================================================\n",
            "Epoch 29:\n",
            "\n",
            "Traning Error : 0.80661172   ||   Validation Error : 0.80754087    Validation Accuracy : 0.703  \n",
            "\n",
            "===========================================================================================================================================\n",
            "Epoch 30:\n",
            "\n",
            "Traning Error : 0.80649404   ||   Validation Error : 0.80743533    Validation Accuracy : 0.7068  \n",
            "\n",
            "===========================================================================================================================================\n",
            "Epoch 31:\n",
            "\n",
            "Traning Error : 0.80638186   ||   Validation Error : 0.80733902    Validation Accuracy : 0.7068  \n",
            "\n",
            "===========================================================================================================================================\n",
            "Epoch 32:\n",
            "\n",
            "Traning Error : 0.80627478   ||   Validation Error : 0.8072513    Validation Accuracy : 0.7068  \n",
            "\n",
            "===========================================================================================================================================\n",
            "Epoch 33:\n",
            "\n",
            "Traning Error : 0.80617244   ||   Validation Error : 0.80717159    Validation Accuracy : 0.7105  \n",
            "\n",
            "===========================================================================================================================================\n",
            "Epoch 34:\n",
            "\n",
            "Traning Error : 0.80607451   ||   Validation Error : 0.80709933    Validation Accuracy : 0.7105  \n",
            "\n",
            "===========================================================================================================================================\n",
            "Epoch 35:\n",
            "\n",
            "Traning Error : 0.80598069   ||   Validation Error : 0.80703402    Validation Accuracy : 0.7105  \n",
            "\n",
            "===========================================================================================================================================\n",
            "Epoch 36:\n",
            "\n",
            "Traning Error : 0.80589071   ||   Validation Error : 0.80697518    Validation Accuracy : 0.7105  \n",
            "\n",
            "===========================================================================================================================================\n",
            "Epoch 37:\n",
            "\n",
            "Traning Error : 0.80580431   ||   Validation Error : 0.80692235    Validation Accuracy : 0.7105  \n",
            "\n",
            "===========================================================================================================================================\n",
            "****************BEST WEIGHTS ON WHICH HIGHEST ACCURACY ACHIEVED - RESTORIED******************\n"
          ]
        }
      ]
    },
    {
      "cell_type": "code",
      "source": [
        "validation_prediction_MBatch = MiniBatch_Model.Pridction(test_X, getLabel=True)\n",
        "print(f\"Accuracy on Testing Data : {MiniBatch_Model.Generic_AccuracyScore(test_Y, validation_prediction_MBatch)}\")"
      ],
      "metadata": {
        "colab": {
          "base_uri": "https://localhost:8080/"
        },
        "id": "t5HXPj4uSF7a",
        "outputId": "c7e2f5da-da56-4078-b6e9-d1b055ebcd1d"
      },
      "execution_count": 34,
      "outputs": [
        {
          "output_type": "stream",
          "name": "stdout",
          "text": [
            "Accuracy on Testing Data : 0.7218\n"
          ]
        }
      ]
    },
    {
      "cell_type": "code",
      "source": [
        "plt.plot(range(len(MiniBatch_Model.ErrorTrain)), MiniBatch_Model.ErrorTrain, c= 'blue', label = 'ErrorTrain')\n",
        "plt.plot(range(len(MiniBatch_Model.ErrorValidation)), MiniBatch_Model.ErrorValidation, c= 'red', label = 'ErrorValidation')\n",
        "plt.xlabel('Epochs')\n",
        "plt.ylabel('Train Error, Validation Error')\n",
        "plt.title(\"ErrorTrain and ErrorValidation vs Epochs\")\n",
        "plt.legend()\n",
        "plt.show"
      ],
      "metadata": {
        "colab": {
          "base_uri": "https://localhost:8080/",
          "height": 313
        },
        "id": "IAPeLA39SySF",
        "outputId": "913ec3d7-2c63-4ad9-ebfc-d852f998710b"
      },
      "execution_count": 35,
      "outputs": [
        {
          "output_type": "execute_result",
          "data": {
            "text/plain": [
              "<function matplotlib.pyplot.show>"
            ]
          },
          "metadata": {},
          "execution_count": 35
        },
        {
          "output_type": "display_data",
          "data": {
            "text/plain": [
              "<Figure size 432x288 with 1 Axes>"
            ],
            "image/png": "[encoded data removed]"
          },
          "metadata": {
            "needs_background": "light"
          }
        }
      ]
    },
    {
      "cell_type": "code",
      "source": [
        "print(classification_report(test_Y, validation_prediction_MBatch))\n",
        "conf_Matrix_MBGD = confusion_matrix(test_Y, validation_prediction_MBatch)\n",
        "sns.heatmap(conf_Matrix_MBGD, annot=True)\n",
        "print(\"Accuracy : \", (conf_Matrix_MBGD[0,0] + conf_Matrix_MBGD[1,1])/(np.sum(conf_Matrix_MBGD)))"
      ],
      "metadata": {
        "colab": {
          "base_uri": "https://localhost:8080/",
          "height": 447
        },
        "id": "JldmFU2ibJeq",
        "outputId": "4ba194e0-a473-4d3d-8c93-f67372fccb9d"
      },
      "execution_count": 36,
      "outputs": [
        {
          "output_type": "stream",
          "name": "stdout",
          "text": [
            "              precision    recall  f1-score   support\n",
            "\n",
            "         0.0       0.65      0.54      0.59        98\n",
            "         1.0       0.76      0.83      0.79       168\n",
            "\n",
            "    accuracy                           0.72       266\n",
            "   macro avg       0.70      0.68      0.69       266\n",
            "weighted avg       0.72      0.72      0.72       266\n",
            "\n",
            "Accuracy :  0.7218045112781954\n"
          ]
        },
        {
          "output_type": "display_data",
          "data": {
            "text/plain": [
              "<Figure size 432x288 with 2 Axes>"
            ],
            "image/png": "[encoded data removed]"
          },
          "metadata": {
            "needs_background": "light"
          }
        }
      ]
    },
    {
      "cell_type": "markdown",
      "source": [
        "#Review on All Three Methods"
      ],
      "metadata": {
        "id": "5XFGpZOig2te"
      }
    },
    {
      "cell_type": "markdown",
      "source": [
        "In Batch we had to do alot of epochs and at the end accuracy isn't the best when compared to other models.<br>\n",
        "\n",
        "In Stochastic instead of finding derivate on all instance at once we calculate derivate on one instance and update our weights based on that. This approach saved us from doing so many epochs and got us the result in less then 10 epochs.<br>\n",
        "\n",
        "The best approach out of all is the Mini-Batch, in this we combined the approach of both batch and stochastic, which resulted in us having to do less epochs as well as improved accuracy from all other approaches."
      ],
      "metadata": {
        "id": "EOTg9zgUg4-x"
      }
    }
  ],
  "metadata": {
    "colab": {
      "collapsed_sections": [
        "w6yEwiBmQkYw",
        "CWN-jDgoI2QG",
        "HLh7r_jWIdTy",
        "xzz6s7SHIheq"
      ],
      "name": "Logestic Regressor For Binary Classification.ipynb",
      "toc_visible": true,
      "provenance": []
    },
    "kernelspec": {
      "display_name": "Python 3",
      "name": "python3"
    },
    "language_info": {
      "name": "python"
    }
  },
  "nbformat": 4,
  "nbformat_minor": 0
}